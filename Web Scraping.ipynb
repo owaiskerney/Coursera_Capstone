{
    "cells": [
        {
            "cell_type": "markdown",
            "metadata": {},
            "source": "<h1>Section 1: This section obtains data from the wikipedia page and stores it appropriately in a dataframe</h1>"
        },
        {
            "cell_type": "code",
            "execution_count": 7,
            "metadata": {},
            "outputs": [],
            "source": "import pandas as pd"
        },
        {
            "cell_type": "code",
            "execution_count": 8,
            "metadata": {},
            "outputs": [],
            "source": "aslist = pd.read_html('https://en.wikipedia.org/wiki/List_of_postal_codes_of_Canada:_M')"
        },
        {
            "cell_type": "code",
            "execution_count": 3,
            "metadata": {},
            "outputs": [
                {
                    "data": {
                        "text/plain": "3"
                    },
                    "execution_count": 3,
                    "metadata": {},
                    "output_type": "execute_result"
                }
            ],
            "source": "type(aslist)\nlen(aslist)"
        },
        {
            "cell_type": "code",
            "execution_count": 9,
            "metadata": {},
            "outputs": [
                {
                    "name": "stderr",
                    "output_type": "stream",
                    "text": "/opt/conda/envs/Python36/lib/python3.6/site-packages/ipykernel/__main__.py:3: SettingWithCopyWarning: \nA value is trying to be set on a copy of a slice from a DataFrame.\nTry using .loc[row_indexer,col_indexer] = value instead\n\nSee the caveats in the documentation: http://pandas.pydata.org/pandas-docs/stable/indexing.html#indexing-view-versus-copy\n  app.launch_new_instance()\n"
                },
                {
                    "data": {
                        "text/html": "<div>\n<style scoped>\n    .dataframe tbody tr th:only-of-type {\n        vertical-align: middle;\n    }\n\n    .dataframe tbody tr th {\n        vertical-align: top;\n    }\n\n    .dataframe thead th {\n        text-align: right;\n    }\n</style>\n<table border=\"1\" class=\"dataframe\">\n  <thead>\n    <tr style=\"text-align: right;\">\n      <th></th>\n      <th>Postal code</th>\n      <th>Borough</th>\n      <th>Neighborhood</th>\n    </tr>\n  </thead>\n  <tbody>\n    <tr>\n      <th>0</th>\n      <td>M3A</td>\n      <td>North York</td>\n      <td>Parkwoods</td>\n    </tr>\n    <tr>\n      <th>1</th>\n      <td>M4A</td>\n      <td>North York</td>\n      <td>Victoria Village</td>\n    </tr>\n    <tr>\n      <th>2</th>\n      <td>M5A</td>\n      <td>Downtown Toronto</td>\n      <td>Regent Park,Harbourfront</td>\n    </tr>\n    <tr>\n      <th>3</th>\n      <td>M6A</td>\n      <td>North York</td>\n      <td>Lawrence Manor,Lawrence Heights</td>\n    </tr>\n    <tr>\n      <th>4</th>\n      <td>M7A</td>\n      <td>Downtown Toronto</td>\n      <td>Queen's Park,Ontario Provincial Government</td>\n    </tr>\n    <tr>\n      <th>5</th>\n      <td>M9A</td>\n      <td>Etobicoke</td>\n      <td>Islington Avenue</td>\n    </tr>\n    <tr>\n      <th>6</th>\n      <td>M1B</td>\n      <td>Scarborough</td>\n      <td>Malvern,Rouge</td>\n    </tr>\n    <tr>\n      <th>7</th>\n      <td>M3B</td>\n      <td>North York</td>\n      <td>Don Mills</td>\n    </tr>\n    <tr>\n      <th>8</th>\n      <td>M4B</td>\n      <td>East York</td>\n      <td>Parkview Hill,Woodbine Gardens</td>\n    </tr>\n    <tr>\n      <th>9</th>\n      <td>M5B</td>\n      <td>Downtown Toronto</td>\n      <td>Garden District, Ryerson</td>\n    </tr>\n    <tr>\n      <th>10</th>\n      <td>M6B</td>\n      <td>North York</td>\n      <td>Glencairn</td>\n    </tr>\n    <tr>\n      <th>11</th>\n      <td>M9B</td>\n      <td>Etobicoke</td>\n      <td>West Deane Park,Princess Gardens,Martin Grove,...</td>\n    </tr>\n    <tr>\n      <th>12</th>\n      <td>M1C</td>\n      <td>Scarborough</td>\n      <td>Rouge Hill,Port Union,Highland Creek</td>\n    </tr>\n    <tr>\n      <th>13</th>\n      <td>M3C</td>\n      <td>North York</td>\n      <td>Don Mills</td>\n    </tr>\n    <tr>\n      <th>14</th>\n      <td>M4C</td>\n      <td>East York</td>\n      <td>Woodbine Heights</td>\n    </tr>\n    <tr>\n      <th>15</th>\n      <td>M5C</td>\n      <td>Downtown Toronto</td>\n      <td>St. James Town</td>\n    </tr>\n    <tr>\n      <th>16</th>\n      <td>M6C</td>\n      <td>York</td>\n      <td>Humewood-Cedarvale</td>\n    </tr>\n    <tr>\n      <th>17</th>\n      <td>M9C</td>\n      <td>Etobicoke</td>\n      <td>Eringate,Bloordale Gardens,Old Burnhamthorpe,M...</td>\n    </tr>\n    <tr>\n      <th>18</th>\n      <td>M1E</td>\n      <td>Scarborough</td>\n      <td>Guildwood,Morningside,West Hill</td>\n    </tr>\n    <tr>\n      <th>19</th>\n      <td>M4E</td>\n      <td>East Toronto</td>\n      <td>The Beaches</td>\n    </tr>\n    <tr>\n      <th>20</th>\n      <td>M5E</td>\n      <td>Downtown Toronto</td>\n      <td>Berczy Park</td>\n    </tr>\n    <tr>\n      <th>21</th>\n      <td>M6E</td>\n      <td>York</td>\n      <td>Caledonia-Fairbanks</td>\n    </tr>\n    <tr>\n      <th>22</th>\n      <td>M1G</td>\n      <td>Scarborough</td>\n      <td>Woburn</td>\n    </tr>\n    <tr>\n      <th>23</th>\n      <td>M4G</td>\n      <td>East York</td>\n      <td>Leaside</td>\n    </tr>\n    <tr>\n      <th>24</th>\n      <td>M5G</td>\n      <td>Downtown Toronto</td>\n      <td>Central Bay Street</td>\n    </tr>\n    <tr>\n      <th>25</th>\n      <td>M6G</td>\n      <td>Downtown Toronto</td>\n      <td>Christie</td>\n    </tr>\n    <tr>\n      <th>26</th>\n      <td>M1H</td>\n      <td>Scarborough</td>\n      <td>Cedarbrae</td>\n    </tr>\n    <tr>\n      <th>27</th>\n      <td>M2H</td>\n      <td>North York</td>\n      <td>Hillcrest Village</td>\n    </tr>\n    <tr>\n      <th>28</th>\n      <td>M3H</td>\n      <td>North York</td>\n      <td>Bathurst Manor,Wilson Heights,Downsview North</td>\n    </tr>\n    <tr>\n      <th>29</th>\n      <td>M4H</td>\n      <td>East York</td>\n      <td>Thorncliffe Park</td>\n    </tr>\n    <tr>\n      <th>...</th>\n      <td>...</td>\n      <td>...</td>\n      <td>...</td>\n    </tr>\n    <tr>\n      <th>73</th>\n      <td>M4R</td>\n      <td>Central Toronto</td>\n      <td>North Toronto West</td>\n    </tr>\n    <tr>\n      <th>74</th>\n      <td>M5R</td>\n      <td>Central Toronto</td>\n      <td>The Annex,North Midtown,Yorkville</td>\n    </tr>\n    <tr>\n      <th>75</th>\n      <td>M6R</td>\n      <td>West Toronto</td>\n      <td>Parkdale,Roncesvalles</td>\n    </tr>\n    <tr>\n      <th>76</th>\n      <td>M7R</td>\n      <td>Mississauga</td>\n      <td>Canada Post Gateway Processing Centre</td>\n    </tr>\n    <tr>\n      <th>77</th>\n      <td>M9R</td>\n      <td>Etobicoke</td>\n      <td>Kingsview Village,St. Phillips,Martin Grove Ga...</td>\n    </tr>\n    <tr>\n      <th>78</th>\n      <td>M1S</td>\n      <td>Scarborough</td>\n      <td>Agincourt</td>\n    </tr>\n    <tr>\n      <th>79</th>\n      <td>M4S</td>\n      <td>Central Toronto</td>\n      <td>Davisville</td>\n    </tr>\n    <tr>\n      <th>80</th>\n      <td>M5S</td>\n      <td>Downtown Toronto</td>\n      <td>University of Toronto,Harbord</td>\n    </tr>\n    <tr>\n      <th>81</th>\n      <td>M6S</td>\n      <td>West Toronto</td>\n      <td>Runnymede,Swansea</td>\n    </tr>\n    <tr>\n      <th>82</th>\n      <td>M1T</td>\n      <td>Scarborough</td>\n      <td>Clarks Corners,Tam O'Shanter,Sullivan</td>\n    </tr>\n    <tr>\n      <th>83</th>\n      <td>M4T</td>\n      <td>Central Toronto</td>\n      <td>Moore Park,Summerhill East</td>\n    </tr>\n    <tr>\n      <th>84</th>\n      <td>M5T</td>\n      <td>Downtown Toronto</td>\n      <td>Kensington Market,Chinatown,Grange Park</td>\n    </tr>\n    <tr>\n      <th>85</th>\n      <td>M1V</td>\n      <td>Scarborough</td>\n      <td>Milliken,Agincourt North,Steeles East,L'Amorea...</td>\n    </tr>\n    <tr>\n      <th>86</th>\n      <td>M4V</td>\n      <td>Central Toronto</td>\n      <td>Summerhill West,Rathnelly,South Hill,Forest Hi...</td>\n    </tr>\n    <tr>\n      <th>87</th>\n      <td>M5V</td>\n      <td>Downtown Toronto</td>\n      <td>CN Tower,King and Spadina,Railway Lands,Harbou...</td>\n    </tr>\n    <tr>\n      <th>88</th>\n      <td>M8V</td>\n      <td>Etobicoke</td>\n      <td>New Toronto,Mimico South,Humber Bay Shores</td>\n    </tr>\n    <tr>\n      <th>89</th>\n      <td>M9V</td>\n      <td>Etobicoke</td>\n      <td>South Steeles,Silverstone,Humbergate,Jamestown...</td>\n    </tr>\n    <tr>\n      <th>90</th>\n      <td>M1W</td>\n      <td>Scarborough</td>\n      <td>Steeles West,L'Amoreaux West</td>\n    </tr>\n    <tr>\n      <th>91</th>\n      <td>M4W</td>\n      <td>Downtown Toronto</td>\n      <td>Rosedale</td>\n    </tr>\n    <tr>\n      <th>92</th>\n      <td>M5W</td>\n      <td>Downtown Toronto</td>\n      <td>Stn A PO Boxes</td>\n    </tr>\n    <tr>\n      <th>93</th>\n      <td>M8W</td>\n      <td>Etobicoke</td>\n      <td>Alderwood,Long Branch</td>\n    </tr>\n    <tr>\n      <th>94</th>\n      <td>M9W</td>\n      <td>Etobicoke</td>\n      <td>Northwest</td>\n    </tr>\n    <tr>\n      <th>95</th>\n      <td>M1X</td>\n      <td>Scarborough</td>\n      <td>Upper Rouge</td>\n    </tr>\n    <tr>\n      <th>96</th>\n      <td>M4X</td>\n      <td>Downtown Toronto</td>\n      <td>St. James Town,Cabbagetown</td>\n    </tr>\n    <tr>\n      <th>97</th>\n      <td>M5X</td>\n      <td>Downtown Toronto</td>\n      <td>First Canadian Place,Underground city</td>\n    </tr>\n    <tr>\n      <th>98</th>\n      <td>M8X</td>\n      <td>Etobicoke</td>\n      <td>The Kingsway,Montgomery Road,Old Mill North</td>\n    </tr>\n    <tr>\n      <th>99</th>\n      <td>M4Y</td>\n      <td>Downtown Toronto</td>\n      <td>Church and Wellesley</td>\n    </tr>\n    <tr>\n      <th>100</th>\n      <td>M7Y</td>\n      <td>East Toronto</td>\n      <td>Business reply mail Processing CentrE</td>\n    </tr>\n    <tr>\n      <th>101</th>\n      <td>M8Y</td>\n      <td>Etobicoke</td>\n      <td>Old Mill South,King's Mill Park,Sunnylea,Humbe...</td>\n    </tr>\n    <tr>\n      <th>102</th>\n      <td>M8Z</td>\n      <td>Etobicoke</td>\n      <td>Mimico NW,The Queensway West,South of Bloor,Ki...</td>\n    </tr>\n  </tbody>\n</table>\n<p>103 rows \u00d7 3 columns</p>\n</div>",
                        "text/plain": "    Postal code           Borough  \\\n0           M3A        North York   \n1           M4A        North York   \n2           M5A  Downtown Toronto   \n3           M6A        North York   \n4           M7A  Downtown Toronto   \n5           M9A         Etobicoke   \n6           M1B       Scarborough   \n7           M3B        North York   \n8           M4B         East York   \n9           M5B  Downtown Toronto   \n10          M6B        North York   \n11          M9B         Etobicoke   \n12          M1C       Scarborough   \n13          M3C        North York   \n14          M4C         East York   \n15          M5C  Downtown Toronto   \n16          M6C              York   \n17          M9C         Etobicoke   \n18          M1E       Scarborough   \n19          M4E      East Toronto   \n20          M5E  Downtown Toronto   \n21          M6E              York   \n22          M1G       Scarborough   \n23          M4G         East York   \n24          M5G  Downtown Toronto   \n25          M6G  Downtown Toronto   \n26          M1H       Scarborough   \n27          M2H        North York   \n28          M3H        North York   \n29          M4H         East York   \n..          ...               ...   \n73          M4R   Central Toronto   \n74          M5R   Central Toronto   \n75          M6R      West Toronto   \n76          M7R       Mississauga   \n77          M9R         Etobicoke   \n78          M1S       Scarborough   \n79          M4S   Central Toronto   \n80          M5S  Downtown Toronto   \n81          M6S      West Toronto   \n82          M1T       Scarborough   \n83          M4T   Central Toronto   \n84          M5T  Downtown Toronto   \n85          M1V       Scarborough   \n86          M4V   Central Toronto   \n87          M5V  Downtown Toronto   \n88          M8V         Etobicoke   \n89          M9V         Etobicoke   \n90          M1W       Scarborough   \n91          M4W  Downtown Toronto   \n92          M5W  Downtown Toronto   \n93          M8W         Etobicoke   \n94          M9W         Etobicoke   \n95          M1X       Scarborough   \n96          M4X  Downtown Toronto   \n97          M5X  Downtown Toronto   \n98          M8X         Etobicoke   \n99          M4Y  Downtown Toronto   \n100         M7Y      East Toronto   \n101         M8Y         Etobicoke   \n102         M8Z         Etobicoke   \n\n                                          Neighborhood  \n0                                            Parkwoods  \n1                                     Victoria Village  \n2                             Regent Park,Harbourfront  \n3                      Lawrence Manor,Lawrence Heights  \n4           Queen's Park,Ontario Provincial Government  \n5                                     Islington Avenue  \n6                                        Malvern,Rouge  \n7                                            Don Mills  \n8                       Parkview Hill,Woodbine Gardens  \n9                             Garden District, Ryerson  \n10                                           Glencairn  \n11   West Deane Park,Princess Gardens,Martin Grove,...  \n12                Rouge Hill,Port Union,Highland Creek  \n13                                           Don Mills  \n14                                    Woodbine Heights  \n15                                      St. James Town  \n16                                  Humewood-Cedarvale  \n17   Eringate,Bloordale Gardens,Old Burnhamthorpe,M...  \n18                     Guildwood,Morningside,West Hill  \n19                                         The Beaches  \n20                                         Berczy Park  \n21                                 Caledonia-Fairbanks  \n22                                              Woburn  \n23                                             Leaside  \n24                                  Central Bay Street  \n25                                            Christie  \n26                                           Cedarbrae  \n27                                   Hillcrest Village  \n28       Bathurst Manor,Wilson Heights,Downsview North  \n29                                    Thorncliffe Park  \n..                                                 ...  \n73                                  North Toronto West  \n74                   The Annex,North Midtown,Yorkville  \n75                               Parkdale,Roncesvalles  \n76               Canada Post Gateway Processing Centre  \n77   Kingsview Village,St. Phillips,Martin Grove Ga...  \n78                                           Agincourt  \n79                                          Davisville  \n80                       University of Toronto,Harbord  \n81                                   Runnymede,Swansea  \n82               Clarks Corners,Tam O'Shanter,Sullivan  \n83                          Moore Park,Summerhill East  \n84             Kensington Market,Chinatown,Grange Park  \n85   Milliken,Agincourt North,Steeles East,L'Amorea...  \n86   Summerhill West,Rathnelly,South Hill,Forest Hi...  \n87   CN Tower,King and Spadina,Railway Lands,Harbou...  \n88          New Toronto,Mimico South,Humber Bay Shores  \n89   South Steeles,Silverstone,Humbergate,Jamestown...  \n90                        Steeles West,L'Amoreaux West  \n91                                            Rosedale  \n92                                      Stn A PO Boxes  \n93                               Alderwood,Long Branch  \n94                                           Northwest  \n95                                         Upper Rouge  \n96                          St. James Town,Cabbagetown  \n97               First Canadian Place,Underground city  \n98         The Kingsway,Montgomery Road,Old Mill North  \n99                                Church and Wellesley  \n100              Business reply mail Processing CentrE  \n101  Old Mill South,King's Mill Park,Sunnylea,Humbe...  \n102  Mimico NW,The Queensway West,South of Bloor,Ki...  \n\n[103 rows x 3 columns]"
                    },
                    "execution_count": 9,
                    "metadata": {},
                    "output_type": "execute_result"
                }
            ],
            "source": "df = aslist[0]\ndf = df[df['Borough'] != 'Not assigned']\ndf['Neighborhood'] = df['Neighborhood'].str.replace(' / ', ',')\ndf.reset_index()\ndf = df[['Postal code','Borough', 'Neighborhood']]\ndf.reset_index(drop=True,inplace=True)\ndf"
        },
        {
            "cell_type": "code",
            "execution_count": 5,
            "metadata": {},
            "outputs": [
                {
                    "data": {
                        "text/plain": "(103, 3)"
                    },
                    "execution_count": 5,
                    "metadata": {},
                    "output_type": "execute_result"
                }
            ],
            "source": "df.shape"
        },
        {
            "cell_type": "markdown",
            "metadata": {},
            "source": "<h1>Section 2: In this section, we read latitude/longitude data and add it to our dataframe from Section 1</h1>"
        },
        {
            "cell_type": "code",
            "execution_count": 10,
            "metadata": {},
            "outputs": [
                {
                    "data": {
                        "text/html": "<div>\n<style scoped>\n    .dataframe tbody tr th:only-of-type {\n        vertical-align: middle;\n    }\n\n    .dataframe tbody tr th {\n        vertical-align: top;\n    }\n\n    .dataframe thead th {\n        text-align: right;\n    }\n</style>\n<table border=\"1\" class=\"dataframe\">\n  <thead>\n    <tr style=\"text-align: right;\">\n      <th></th>\n      <th>Postal Code</th>\n      <th>Latitude</th>\n      <th>Longitude</th>\n    </tr>\n  </thead>\n  <tbody>\n    <tr>\n      <th>0</th>\n      <td>M1B</td>\n      <td>43.806686</td>\n      <td>-79.194353</td>\n    </tr>\n    <tr>\n      <th>1</th>\n      <td>M1C</td>\n      <td>43.784535</td>\n      <td>-79.160497</td>\n    </tr>\n    <tr>\n      <th>2</th>\n      <td>M1E</td>\n      <td>43.763573</td>\n      <td>-79.188711</td>\n    </tr>\n    <tr>\n      <th>3</th>\n      <td>M1G</td>\n      <td>43.770992</td>\n      <td>-79.216917</td>\n    </tr>\n    <tr>\n      <th>4</th>\n      <td>M1H</td>\n      <td>43.773136</td>\n      <td>-79.239476</td>\n    </tr>\n  </tbody>\n</table>\n</div>",
                        "text/plain": "  Postal Code   Latitude  Longitude\n0         M1B  43.806686 -79.194353\n1         M1C  43.784535 -79.160497\n2         M1E  43.763573 -79.188711\n3         M1G  43.770992 -79.216917\n4         M1H  43.773136 -79.239476"
                    },
                    "execution_count": 10,
                    "metadata": {},
                    "output_type": "execute_result"
                }
            ],
            "source": "df3 = pd.read_csv('http://cocl.us/Geospatial_data')\ndf3.head()"
        },
        {
            "cell_type": "code",
            "execution_count": 11,
            "metadata": {},
            "outputs": [
                {
                    "data": {
                        "text/plain": "Index(['PostalCode', 'Latitude', 'Longitude'], dtype='object')"
                    },
                    "execution_count": 11,
                    "metadata": {},
                    "output_type": "execute_result"
                }
            ],
            "source": "df.rename(columns={\"Postal code\":\"PostalCode\"}, inplace=True)\ndf3.rename(columns={\"Postal Code\":\"PostalCode\"}, inplace=True)\ndf3.columns"
        },
        {
            "cell_type": "code",
            "execution_count": 12,
            "metadata": {},
            "outputs": [],
            "source": "out = pd.merge(df.reset_index(), df3.reset_index())"
        },
        {
            "cell_type": "code",
            "execution_count": 13,
            "metadata": {
                "scrolled": true
            },
            "outputs": [
                {
                    "data": {
                        "text/html": "<div>\n<style scoped>\n    .dataframe tbody tr th:only-of-type {\n        vertical-align: middle;\n    }\n\n    .dataframe tbody tr th {\n        vertical-align: top;\n    }\n\n    .dataframe thead th {\n        text-align: right;\n    }\n</style>\n<table border=\"1\" class=\"dataframe\">\n  <thead>\n    <tr style=\"text-align: right;\">\n      <th></th>\n      <th>index</th>\n      <th>PostalCode</th>\n      <th>Borough</th>\n      <th>Neighborhood</th>\n      <th>Latitude</th>\n      <th>Longitude</th>\n    </tr>\n  </thead>\n  <tbody>\n    <tr>\n      <th>0</th>\n      <td>28</td>\n      <td>M3H</td>\n      <td>North York</td>\n      <td>Bathurst Manor,Wilson Heights,Downsview North</td>\n      <td>43.754328</td>\n      <td>-79.442259</td>\n    </tr>\n    <tr>\n      <th>1</th>\n      <td>41</td>\n      <td>M4K</td>\n      <td>East Toronto</td>\n      <td>The Danforth West,Riverdale</td>\n      <td>43.679557</td>\n      <td>-79.352188</td>\n    </tr>\n    <tr>\n      <th>2</th>\n      <td>88</td>\n      <td>M8V</td>\n      <td>Etobicoke</td>\n      <td>New Toronto,Mimico South,Humber Bay Shores</td>\n      <td>43.605647</td>\n      <td>-79.501321</td>\n    </tr>\n  </tbody>\n</table>\n</div>",
                        "text/plain": "   index PostalCode       Borough  \\\n0     28        M3H    North York   \n1     41        M4K  East Toronto   \n2     88        M8V     Etobicoke   \n\n                                    Neighborhood   Latitude  Longitude  \n0  Bathurst Manor,Wilson Heights,Downsview North  43.754328 -79.442259  \n1                    The Danforth West,Riverdale  43.679557 -79.352188  \n2     New Toronto,Mimico South,Humber Bay Shores  43.605647 -79.501321  "
                    },
                    "execution_count": 13,
                    "metadata": {},
                    "output_type": "execute_result"
                }
            ],
            "source": "out.head()"
        },
        {
            "cell_type": "markdown",
            "metadata": {},
            "source": "<h1>Section 3: In this section, we will analyse neighborhoods in Toronto and cluster them</h1>"
        },
        {
            "cell_type": "code",
            "execution_count": 2,
            "metadata": {
                "scrolled": true
            },
            "outputs": [
                {
                    "name": "stdout",
                    "output_type": "stream",
                    "text": "Solving environment: \\ ^C\nfailed\n\nCondaError: KeyboardInterrupt\n\n"
                }
            ],
            "source": "import json # library to handle JSON files\n\n!conda install -c conda-forge geopy --yes # uncomment this line if you haven't completed the Foursquare API lab\nfrom geopy.geocoders import Nominatim # convert an address into latitude and longitude values"
        },
        {
            "cell_type": "code",
            "execution_count": 1,
            "metadata": {
                "scrolled": true
            },
            "outputs": [
                {
                    "name": "stdout",
                    "output_type": "stream",
                    "text": "Solving environment: done\n\n# All requested packages already installed.\n\nLibraries imported.\n"
                }
            ],
            "source": "!conda install -c conda-forge folium=0.5.0 --yes\nimport folium\n\nprint('Libraries imported.')"
        },
        {
            "cell_type": "code",
            "execution_count": null,
            "metadata": {},
            "outputs": [],
            "source": "import requests # library to handle requests\nfrom pandas.io.json import json_normalize # tranform JSON file into a pandas dataframe\n\n# Matplotlib and associated plotting modules\nimport matplotlib.cm as cm\nimport matplotlib.colors as colors\n\n# import k-means from clustering stage\nfrom sklearn.cluster import KMeans"
        },
        {
            "cell_type": "code",
            "execution_count": null,
            "metadata": {},
            "outputs": [],
            "source": "address = 'Toronto, Ontario'\n\ngeolocator = Nominatim(user_agent=\"ny_explorer\")\nlocation = geolocator.geocode(address)\nlatitude = location.latitude\nlongitude = location.longitude\nprint('The geograpical coordinate of Toronto are {}, {}.'.format(latitude, longitude))"
        },
        {
            "cell_type": "code",
            "execution_count": 15,
            "metadata": {
                "scrolled": true
            },
            "outputs": [
                {
                    "data": {
                        "text/html": "<div style=\"width:100%;\"><div style=\"position:relative;width:100%;height:0;padding-bottom:60%;\"><iframe src=\"about:blank\" style=\"position:absolute;width:100%;height:100%;left:0;top:0;border:none !important;\" data-html=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 onload=\"this.contentDocument.open();this.contentDocument.write(atob(this.getAttribute('data-html')));this.contentDocument.close();\" allowfullscreen webkitallowfullscreen mozallowfullscreen></iframe></div></div>",
                        "text/plain": "<folium.folium.Map at 0x7f7066092630>"
                    },
                    "execution_count": 15,
                    "metadata": {},
                    "output_type": "execute_result"
                }
            ],
            "source": "# create map of New York using latitude and longitude values\nmap_toronto = folium.Map(location=[43.651070, -79.347015], zoom_start=10)\n\n# add markers to map\nfor lat, lng, borough, neighborhood in zip(out['Latitude'], out['Longitude'], out['Borough'], out['Neighborhood']):\n    label = '{}, {}'.format(neighborhood, borough)\n    label = folium.Popup(label, parse_html=True)\n    folium.CircleMarker(\n        [lat, lng],\n        radius=5,\n        popup=label,\n        color='blue',\n        fill=True,\n        fill_color='#3186cc',\n        fill_opacity=0.7,\n        parse_html=False).add_to(map_toronto)  \n    \nmap_toronto"
        },
        {
            "cell_type": "code",
            "execution_count": 16,
            "metadata": {},
            "outputs": [
                {
                    "name": "stdout",
                    "output_type": "stream",
                    "text": "Your credentails:\nCLIENT_ID: DXOLZNK5E3HB4GQLOFBTMK1KZKZVADQFLFXVXZHRQOHBXKTK\nCLIENT_SECRET:UGSJTKYNZOXNZCYPIK0XP2UTADUJZQVFU43VEJDWBALFRSF4\n"
                }
            ],
            "source": "CLIENT_ID = 'DXOLZNK5E3HB4GQLOFBTMK1KZKZVADQFLFXVXZHRQOHBXKTK' # your Foursquare ID\nCLIENT_SECRET = 'UGSJTKYNZOXNZCYPIK0XP2UTADUJZQVFU43VEJDWBALFRSF4' # your Foursquare Secret\nVERSION = '20180605' # Foursquare API version\n\nprint('Your credentails:')\nprint('CLIENT_ID: ' + CLIENT_ID)\nprint('CLIENT_SECRET:' + CLIENT_SECRET)"
        },
        {
            "cell_type": "code",
            "execution_count": 17,
            "metadata": {},
            "outputs": [
                {
                    "name": "stdout",
                    "output_type": "stream",
                    "text": "Latitude and longitude values of Bathurst Manor,Wilson Heights,Downsview North are 43.7543283, -79.4422593.\n"
                }
            ],
            "source": "neighborhood_latitude = out.loc[0, 'Latitude'] # neighborhood latitude value\nneighborhood_longitude = out.loc[0, 'Longitude'] # neighborhood longitude value\n\nneighborhood_name = out.loc[0, 'Neighborhood'] # neighborhood name\n\nprint('Latitude and longitude values of {} are {}, {}.'.format(neighborhood_name, \n                                                               neighborhood_latitude, \n                                                               neighborhood_longitude))"
        },
        {
            "cell_type": "code",
            "execution_count": 18,
            "metadata": {},
            "outputs": [],
            "source": "# type your answer here\nradius = 500\nLIMIT = 100\n\nurl = 'https://api.foursquare.com/v2/venues/explore?&client_id={}&client_secret={}&v={}&ll={},{}&radius={}&limit={}'.format(\n    CLIENT_ID, \n    CLIENT_SECRET, \n    VERSION, \n    neighborhood_latitude, \n    neighborhood_longitude, \n    radius, \n    LIMIT)"
        },
        {
            "cell_type": "code",
            "execution_count": 19,
            "metadata": {},
            "outputs": [
                {
                    "data": {
                        "text/plain": "{'meta': {'code': 200, 'requestId': '5e85b04895feaf001b5ca38e'},\n 'response': {'suggestedFilters': {'header': 'Tap to show:',\n   'filters': [{'name': 'Open now', 'key': 'openNow'}]},\n  'headerLocation': 'Clanton Park',\n  'headerFullLocation': 'Clanton Park, Toronto',\n  'headerLocationGranularity': 'neighborhood',\n  'totalResults': 20,\n  'suggestedBounds': {'ne': {'lat': 43.7588283045, 'lng': -79.43604092869812},\n   'sw': {'lat': 43.749828295499995, 'lng': -79.44847767130189}},\n  'groups': [{'type': 'Recommended Places',\n    'name': 'recommended',\n    'items': [{'reasons': {'count': 0,\n       'items': [{'summary': 'This spot is popular',\n         'type': 'general',\n         'reasonName': 'globalInteractionReason'}]},\n      'venue': {'id': '4adf35f1f964a520577821e3',\n       'name': \"Wolfie's Deli\",\n       'location': {'address': '670 Sheppard Ave. W',\n        'crossStreet': 'at Bryant St.',\n        'lat': 43.754875481443555,\n        'lng': -79.44243785404784,\n        'labeledLatLngs': [{'label': 'display',\n          'lat': 43.754875481443555,\n          'lng': -79.44243785404784}],\n        'distance': 62,\n        'postalCode': 'M3H 2S5',\n        'cc': 'CA',\n        'city': 'Toronto',\n        'state': 'ON',\n        'country': 'Canada',\n        'formattedAddress': ['670 Sheppard Ave. W (at Bryant St.)',\n         'Toronto ON M3H 2S5',\n         'Canada']},\n       'categories': [{'id': '4bf58dd8d48988d146941735',\n         'name': 'Deli / Bodega',\n         'pluralName': 'Delis / Bodegas',\n         'shortName': 'Deli / Bodega',\n         'icon': {'prefix': 'https://ss3.4sqi.net/img/categories_v2/food/deli_',\n          'suffix': '.png'},\n         'primary': True}],\n       'photos': {'count': 0, 'groups': []}},\n      'referralId': 'e-0-4adf35f1f964a520577821e3-0'},\n     {'reasons': {'count': 0,\n       'items': [{'summary': 'This spot is popular',\n         'type': 'general',\n         'reasonName': 'globalInteractionReason'}]},\n      'venue': {'id': '4b65c410f964a52050fe2ae3',\n       'name': 'Bagel Plus',\n       'location': {'address': '634 Sheppard Avenue W.',\n        'lat': 43.75539484400371,\n        'lng': -79.4406859789969,\n        'labeledLatLngs': [{'label': 'display',\n          'lat': 43.75539484400371,\n          'lng': -79.4406859789969}],\n        'distance': 173,\n        'cc': 'CA',\n        'city': 'North York',\n        'state': 'ON',\n        'country': 'Canada',\n        'formattedAddress': ['634 Sheppard Avenue W.',\n         'North York ON',\n         'Canada']},\n       'categories': [{'id': '4bf58dd8d48988d1c4941735',\n         'name': 'Restaurant',\n         'pluralName': 'Restaurants',\n         'shortName': 'Restaurant',\n         'icon': {'prefix': 'https://ss3.4sqi.net/img/categories_v2/food/default_',\n          'suffix': '.png'},\n         'primary': True}],\n       'photos': {'count': 0, 'groups': []}},\n      'referralId': 'e-0-4b65c410f964a52050fe2ae3-1'},\n     {'reasons': {'count': 0,\n       'items': [{'summary': 'This spot is popular',\n         'type': 'general',\n         'reasonName': 'globalInteractionReason'}]},\n      'venue': {'id': '4bc3acbdabf495210a22c493',\n       'name': 'Orly Restaurant & Grill',\n       'location': {'address': '660 Sheppard Avenue West',\n        'crossStreet': 'Bathurst',\n        'lat': 43.754493246006334,\n        'lng': -79.44350727697311,\n        'labeledLatLngs': [{'label': 'display',\n          'lat': 43.754493246006334,\n          'lng': -79.44350727697311}],\n        'distance': 102,\n        'cc': 'CA',\n        'city': 'Toronto',\n        'state': 'ON',\n        'country': 'Canada',\n        'formattedAddress': ['660 Sheppard Avenue West (Bathurst)',\n         'Toronto ON',\n         'Canada']},\n       'categories': [{'id': '4bf58dd8d48988d115941735',\n         'name': 'Middle Eastern Restaurant',\n         'pluralName': 'Middle Eastern Restaurants',\n         'shortName': 'Middle Eastern',\n         'icon': {'prefix': 'https://ss3.4sqi.net/img/categories_v2/food/middleeastern_',\n          'suffix': '.png'},\n         'primary': True}],\n       'photos': {'count': 0, 'groups': []}},\n      'referralId': 'e-0-4bc3acbdabf495210a22c493-2'},\n     {'reasons': {'count': 0,\n       'items': [{'summary': 'This spot is popular',\n         'type': 'general',\n         'reasonName': 'globalInteractionReason'}]},\n      'venue': {'id': '4ce01e0294c3b60c0a816fea',\n       'name': 'Best for Bride in Toronto',\n       'location': {'address': '566 Sheppard Av W',\n        'crossStreet': 'Bathurst St.',\n        'lat': 43.7557891,\n        'lng': -79.4378344,\n        'labeledLatLngs': [{'label': 'display',\n          'lat': 43.7557891,\n          'lng': -79.4378344}],\n        'distance': 391,\n        'postalCode': 'M3H 2R9',\n        'cc': 'CA',\n        'city': 'North York',\n        'state': 'ON',\n        'country': 'Canada',\n        'formattedAddress': ['566 Sheppard Av W (Bathurst St.)',\n         'North York ON M3H 2R9',\n         'Canada']},\n       'categories': [{'id': '4bf58dd8d48988d11a951735',\n         'name': 'Bridal Shop',\n         'pluralName': 'Bridal Shops',\n         'shortName': 'Bridal',\n         'icon': {'prefix': 'https://ss3.4sqi.net/img/categories_v2/shops/bridal_',\n          'suffix': '.png'},\n         'primary': True}],\n       'photos': {'count': 0, 'groups': []}},\n      'referralId': 'e-0-4ce01e0294c3b60c0a816fea-3'},\n     {'reasons': {'count': 0,\n       'items': [{'summary': 'This spot is popular',\n         'type': 'general',\n         'reasonName': 'globalInteractionReason'}]},\n      'venue': {'id': '4b05f2bef964a52064e622e3',\n       'name': 'Starbucks',\n       'location': {'address': '626 Sheppard Ave W,Sheppard Plaza',\n        'crossStreet': 'at Bathurst St.',\n        'lat': 43.755703,\n        'lng': -79.440483,\n        'labeledLatLngs': [{'label': 'display',\n          'lat': 43.755703,\n          'lng': -79.440483}],\n        'distance': 209,\n        'postalCode': 'M3H 2S1',\n        'cc': 'CA',\n        'city': 'Toronto',\n        'state': 'ON',\n        'country': 'Canada',\n        'formattedAddress': ['626 Sheppard Ave W,Sheppard Plaza (at Bathurst St.)',\n         'Toronto ON M3H 2S1',\n         'Canada']},\n       'categories': [{'id': '4bf58dd8d48988d1e0931735',\n         'name': 'Coffee Shop',\n         'pluralName': 'Coffee Shops',\n         'shortName': 'Coffee Shop',\n         'icon': {'prefix': 'https://ss3.4sqi.net/img/categories_v2/food/coffeeshop_',\n          'suffix': '.png'},\n         'primary': True}],\n       'photos': {'count': 0, 'groups': []}},\n      'referralId': 'e-0-4b05f2bef964a52064e622e3-4'},\n     {'reasons': {'count': 0,\n       'items': [{'summary': 'This spot is popular',\n         'type': 'general',\n         'reasonName': 'globalInteractionReason'}]},\n      'venue': {'id': '5011603fe4b07c3cf1967fba',\n       'name': 'Tim Hortons',\n       'location': {'address': '680 Sheppard Ave West',\n        'crossStreet': 'Bryant',\n        'lat': 43.75476686520758,\n        'lng': -79.44325044751167,\n        'labeledLatLngs': [{'label': 'display',\n          'lat': 43.75476686520758,\n          'lng': -79.44325044751167}],\n        'distance': 93,\n        'postalCode': 'M3H 2S5',\n        'cc': 'CA',\n        'city': 'North York',\n        'state': 'ON',\n        'country': 'Canada',\n        'formattedAddress': ['680 Sheppard Ave West (Bryant)',\n         'North York ON M3H 2S5',\n         'Canada']},\n       'categories': [{'id': '4bf58dd8d48988d1e0931735',\n         'name': 'Coffee Shop',\n         'pluralName': 'Coffee Shops',\n         'shortName': 'Coffee Shop',\n         'icon': {'prefix': 'https://ss3.4sqi.net/img/categories_v2/food/coffeeshop_',\n          'suffix': '.png'},\n         'primary': True}],\n       'photos': {'count': 0, 'groups': []}},\n      'referralId': 'e-0-5011603fe4b07c3cf1967fba-5'},\n     {'reasons': {'count': 0,\n       'items': [{'summary': 'This spot is popular',\n         'type': 'general',\n         'reasonName': 'globalInteractionReason'}]},\n      'venue': {'id': '4c0ae1a4ffb8c9b6616a6c61',\n       'name': 'Dairy Queen',\n       'location': {'address': '626 Sheppard Ave W',\n        'lat': 43.75567964325238,\n        'lng': -79.44016579234159,\n        'labeledLatLngs': [{'label': 'display',\n          'lat': 43.75567964325238,\n          'lng': -79.44016579234159}],\n        'distance': 225,\n        'postalCode': 'M3H 2S1',\n        'cc': 'CA',\n        'city': 'North York',\n        'state': 'ON',\n        'country': 'Canada',\n        'formattedAddress': ['626 Sheppard Ave W',\n         'North York ON M3H 2S1',\n         'Canada']},\n       'categories': [{'id': '4bf58dd8d48988d1c9941735',\n         'name': 'Ice Cream Shop',\n         'pluralName': 'Ice Cream Shops',\n         'shortName': 'Ice Cream',\n         'icon': {'prefix': 'https://ss3.4sqi.net/img/categories_v2/food/icecream_',\n          'suffix': '.png'},\n         'primary': True}],\n       'photos': {'count': 0, 'groups': []}},\n      'referralId': 'e-0-4c0ae1a4ffb8c9b6616a6c61-6'},\n     {'reasons': {'count': 0,\n       'items': [{'summary': 'This spot is popular',\n         'type': 'general',\n         'reasonName': 'globalInteractionReason'}]},\n      'venue': {'id': '4c471a991ddec928f8449c32',\n       'name': 'TD Canada Trust',\n       'location': {'address': '580 Sheppard Ave W',\n        'lat': 43.7562323,\n        'lng': -79.4390254,\n        'labeledLatLngs': [{'label': 'display',\n          'lat': 43.7562323,\n          'lng': -79.4390254}],\n        'distance': 335,\n        'postalCode': 'M3H 2S1',\n        'cc': 'CA',\n        'city': 'Downsview',\n        'state': 'ON',\n        'country': 'Canada',\n        'formattedAddress': ['580 Sheppard Ave W',\n         'Downsview ON M3H 2S1',\n         'Canada']},\n       'categories': [{'id': '4bf58dd8d48988d10a951735',\n         'name': 'Bank',\n         'pluralName': 'Banks',\n         'shortName': 'Bank',\n         'icon': {'prefix': 'https://ss3.4sqi.net/img/categories_v2/shops/financial_',\n          'suffix': '.png'},\n         'primary': True}],\n       'photos': {'count': 0, 'groups': []}},\n      'referralId': 'e-0-4c471a991ddec928f8449c32-7'},\n     {'reasons': {'count': 0,\n       'items': [{'summary': 'This spot is popular',\n         'type': 'general',\n         'reasonName': 'globalInteractionReason'}]},\n      'venue': {'id': '4c9fd84e542b224b3f2701a0',\n       'name': 'Wakame Sushi',\n       'location': {'address': '638 Sheppard Ave W',\n        'lat': 43.755382185036986,\n        'lng': -79.44094461257187,\n        'labeledLatLngs': [{'label': 'display',\n          'lat': 43.755382185036986,\n          'lng': -79.44094461257187}],\n        'distance': 157,\n        'postalCode': 'M3H 2S1',\n        'cc': 'CA',\n        'city': 'Toronto',\n        'state': 'ON',\n        'country': 'Canada',\n        'formattedAddress': ['638 Sheppard Ave W',\n         'Toronto ON M3H 2S1',\n         'Canada']},\n       'categories': [{'id': '4bf58dd8d48988d1d2941735',\n         'name': 'Sushi Restaurant',\n         'pluralName': 'Sushi Restaurants',\n         'shortName': 'Sushi',\n         'icon': {'prefix': 'https://ss3.4sqi.net/img/categories_v2/food/sushi_',\n          'suffix': '.png'},\n         'primary': True}],\n       'photos': {'count': 0, 'groups': []}},\n      'referralId': 'e-0-4c9fd84e542b224b3f2701a0-8'},\n     {'reasons': {'count': 0,\n       'items': [{'summary': 'This spot is popular',\n         'type': 'general',\n         'reasonName': 'globalInteractionReason'}]},\n      'venue': {'id': '4ebd68b3b8f7b504a7756fa8',\n       'name': \"Yogurty's\",\n       'location': {'address': '594 Sheppard Ave. W',\n        'lat': 43.756190568366485,\n        'lng': -79.43941837290544,\n        'labeledLatLngs': [{'label': 'display',\n          'lat': 43.756190568366485,\n          'lng': -79.43941837290544}],\n        'distance': 308,\n        'postalCode': 'M3H 2S1',\n        'cc': 'CA',\n        'city': 'Toronto',\n        'state': 'ON',\n        'country': 'Canada',\n        'formattedAddress': ['594 Sheppard Ave. W',\n         'Toronto ON M3H 2S1',\n         'Canada']},\n       'categories': [{'id': '512e7cae91d4cbb4e5efe0af',\n         'name': 'Frozen Yogurt Shop',\n         'pluralName': 'Frozen Yogurt Shops',\n         'shortName': 'Yogurt',\n         'icon': {'prefix': 'https://ss3.4sqi.net/img/categories_v2/food/frozenyogurt_',\n          'suffix': '.png'},\n         'primary': True}],\n       'photos': {'count': 0, 'groups': []}},\n      'referralId': 'e-0-4ebd68b3b8f7b504a7756fa8-9'},\n     {'reasons': {'count': 0,\n       'items': [{'summary': 'This spot is popular',\n         'type': 'general',\n         'reasonName': 'globalInteractionReason'}]},\n      'venue': {'id': '4beb1f54a9900f47df661740',\n       'name': 'Subway',\n       'location': {'address': '626A Sheppard Ave. W',\n        'crossStreet': 'Bathurst St',\n        'lat': 43.755741275340625,\n        'lng': -79.44050193032683,\n        'labeledLatLngs': [{'label': 'display',\n          'lat': 43.755741275340625,\n          'lng': -79.44050193032683}],\n        'distance': 211,\n        'postalCode': 'M3H 2S1',\n        'cc': 'CA',\n        'city': 'Toronto',\n        'state': 'ON',\n        'country': 'Canada',\n        'formattedAddress': ['626A Sheppard Ave. W (Bathurst St)',\n         'Toronto ON M3H 2S1',\n         'Canada']},\n       'categories': [{'id': '4bf58dd8d48988d1c5941735',\n         'name': 'Sandwich Place',\n         'pluralName': 'Sandwich Places',\n         'shortName': 'Sandwiches',\n         'icon': {'prefix': 'https://ss3.4sqi.net/img/categories_v2/food/deli_',\n          'suffix': '.png'},\n         'primary': True}],\n       'photos': {'count': 0, 'groups': []}},\n      'referralId': 'e-0-4beb1f54a9900f47df661740-10'},\n     {'reasons': {'count': 0,\n       'items': [{'summary': 'This spot is popular',\n         'type': 'general',\n         'reasonName': 'globalInteractionReason'}]},\n      'venue': {'id': '4bfd9166b68d0f47f2f8e857',\n       'name': 'Pizza Pizza',\n       'location': {'address': '618 SHEPPARD AVENUE WEST',\n        'lat': 43.75531145041057,\n        'lng': -79.44112566629565,\n        'labeledLatLngs': [{'label': 'display',\n          'lat': 43.75531145041057,\n          'lng': -79.44112566629565}],\n        'distance': 142,\n        'postalCode': 'M3H 2S1',\n        'cc': 'CA',\n        'city': 'North York',\n        'state': 'ON',\n        'country': 'Canada',\n        'formattedAddress': ['618 SHEPPARD AVENUE WEST',\n         'North York ON M3H 2S1',\n         'Canada']},\n       'categories': [{'id': '4bf58dd8d48988d1ca941735',\n         'name': 'Pizza Place',\n         'pluralName': 'Pizza Places',\n         'shortName': 'Pizza',\n         'icon': {'prefix': 'https://ss3.4sqi.net/img/categories_v2/food/pizza_',\n          'suffix': '.png'},\n         'primary': True}],\n       'photos': {'count': 0, 'groups': []}},\n      'referralId': 'e-0-4bfd9166b68d0f47f2f8e857-11'},\n     {'reasons': {'count': 0,\n       'items': [{'summary': 'This spot is popular',\n         'type': 'general',\n         'reasonName': 'globalInteractionReason'}]},\n      'venue': {'id': '56959aef498e2bf2f3c816d7',\n       'name': 'Popeyes Louisiana Kitchen',\n       'location': {'address': '674 Sheppard Ave West',\n        'lat': 43.754671343663034,\n        'lng': -79.44274006861691,\n        'labeledLatLngs': [{'label': 'display',\n          'lat': 43.754671343663034,\n          'lng': -79.44274006861691}],\n        'distance': 54,\n        'cc': 'CA',\n        'city': 'Toronto',\n        'state': 'ON',\n        'country': 'Canada',\n        'formattedAddress': ['674 Sheppard Ave West', 'Toronto ON', 'Canada']},\n       'categories': [{'id': '4d4ae6fc7a7b7dea34424761',\n         'name': 'Fried Chicken Joint',\n         'pluralName': 'Fried Chicken Joints',\n         'shortName': 'Fried Chicken',\n         'icon': {'prefix': 'https://ss3.4sqi.net/img/categories_v2/food/friedchicken_',\n          'suffix': '.png'},\n         'primary': True}],\n       'photos': {'count': 0, 'groups': []}},\n      'referralId': 'e-0-56959aef498e2bf2f3c816d7-12'},\n     {'reasons': {'count': 0,\n       'items': [{'summary': 'This spot is popular',\n         'type': 'general',\n         'reasonName': 'globalInteractionReason'}]},\n      'venue': {'id': '4bcde48ffb84c9b664c7223e',\n       'name': \"Wimpy's Diner\",\n       'location': {'address': '590 Sheppard Ave. W.',\n        'crossStreet': 'at Bathurst St.',\n        'lat': 43.75620987159905,\n        'lng': -79.43929448082638,\n        'labeledLatLngs': [{'label': 'display',\n          'lat': 43.75620987159905,\n          'lng': -79.43929448082638}],\n        'distance': 317,\n        'cc': 'CA',\n        'city': 'Toronto',\n        'state': 'ON',\n        'country': 'Canada',\n        'formattedAddress': ['590 Sheppard Ave. W. (at Bathurst St.)',\n         'Toronto ON',\n         'Canada']},\n       'categories': [{'id': '4bf58dd8d48988d147941735',\n         'name': 'Diner',\n         'pluralName': 'Diners',\n         'shortName': 'Diner',\n         'icon': {'prefix': 'https://ss3.4sqi.net/img/categories_v2/food/diner_',\n          'suffix': '.png'},\n         'primary': True}],\n       'photos': {'count': 0, 'groups': []}},\n      'referralId': 'e-0-4bcde48ffb84c9b664c7223e-13'},\n     {'reasons': {'count': 0,\n       'items': [{'summary': 'This spot is popular',\n         'type': 'general',\n         'reasonName': 'globalInteractionReason'}]},\n      'venue': {'id': '4c184a062cddb713b122831e',\n       'name': 'Petro-Canada',\n       'location': {'address': '4384 Bathurst St',\n        'crossStreet': 'at Sheppard Ave W.',\n        'lat': 43.755112,\n        'lng': -79.438838,\n        'labeledLatLngs': [{'label': 'display',\n          'lat': 43.755112,\n          'lng': -79.438838}],\n        'distance': 288,\n        'postalCode': 'M3H 3R6',\n        'cc': 'CA',\n        'city': 'North York',\n        'state': 'ON',\n        'country': 'Canada',\n        'formattedAddress': ['4384 Bathurst St (at Sheppard Ave W.)',\n         'North York ON M3H 3R6',\n         'Canada']},\n       'categories': [{'id': '4bf58dd8d48988d113951735',\n         'name': 'Gas Station',\n         'pluralName': 'Gas Stations',\n         'shortName': 'Gas Station',\n         'icon': {'prefix': 'https://ss3.4sqi.net/img/categories_v2/shops/gas_',\n          'suffix': '.png'},\n         'primary': True}],\n       'photos': {'count': 0, 'groups': []}},\n      'referralId': 'e-0-4c184a062cddb713b122831e-14'},\n     {'reasons': {'count': 0,\n       'items': [{'summary': 'This spot is popular',\n         'type': 'general',\n         'reasonName': 'globalInteractionReason'}]},\n      'venue': {'id': '4bf85d6e5317a59308b8ff7e',\n       'name': 'Sheppard Plaza',\n       'location': {'address': 'Sheppard Ave. W',\n        'crossStreet': 'Bathurst St.',\n        'lat': 43.75569512647938,\n        'lng': -79.43961347354475,\n        'labeledLatLngs': [{'label': 'display',\n          'lat': 43.75569512647938,\n          'lng': -79.43961347354475}],\n        'distance': 261,\n        'cc': 'CA',\n        'city': 'Toronto',\n        'state': 'ON',\n        'country': 'Canada',\n        'formattedAddress': ['Sheppard Ave. W (Bathurst St.)',\n         'Toronto ON',\n         'Canada']},\n       'categories': [{'id': '4bf58dd8d48988d1fd941735',\n         'name': 'Shopping Mall',\n         'pluralName': 'Shopping Malls',\n         'shortName': 'Mall',\n         'icon': {'prefix': 'https://ss3.4sqi.net/img/categories_v2/shops/mall_',\n          'suffix': '.png'},\n         'primary': True}],\n       'photos': {'count': 0, 'groups': []}},\n      'referralId': 'e-0-4bf85d6e5317a59308b8ff7e-15'},\n     {'reasons': {'count': 0,\n       'items': [{'summary': 'This spot is popular',\n         'type': 'general',\n         'reasonName': 'globalInteractionReason'}]},\n      'venue': {'id': '4bdc98973904a59392ea4e9e',\n       'name': 'Shoppers Drug Mart',\n       'location': {'address': '598 Sheppard Ave W',\n        'crossStreet': 'at Bathurst St.',\n        'lat': 43.756239,\n        'lng': -79.439599,\n        'labeledLatLngs': [{'label': 'display',\n          'lat': 43.756239,\n          'lng': -79.439599}],\n        'distance': 301,\n        'postalCode': 'M3H 2S1',\n        'cc': 'CA',\n        'city': 'North York',\n        'state': 'ON',\n        'country': 'Canada',\n        'formattedAddress': ['598 Sheppard Ave W (at Bathurst St.)',\n         'North York ON M3H 2S1',\n         'Canada']},\n       'categories': [{'id': '4bf58dd8d48988d10f951735',\n         'name': 'Pharmacy',\n         'pluralName': 'Pharmacies',\n         'shortName': 'Pharmacy',\n         'icon': {'prefix': 'https://ss3.4sqi.net/img/categories_v2/shops/pharmacy_',\n          'suffix': '.png'},\n         'primary': True}],\n       'photos': {'count': 0, 'groups': []}},\n      'referralId': 'e-0-4bdc98973904a59392ea4e9e-16'},\n     {'reasons': {'count': 0,\n       'items': [{'summary': 'This spot is popular',\n         'type': 'general',\n         'reasonName': 'globalInteractionReason'}]},\n      'venue': {'id': '4b05f390f964a5206fe622e3',\n       'name': 'Metro',\n       'location': {'address': '600 Sheppard Ave W',\n        'crossStreet': 'at Bathurst St.',\n        'lat': 43.75608379050764,\n        'lng': -79.43978950381364,\n        'labeledLatLngs': [{'label': 'display',\n          'lat': 43.75608379050764,\n          'lng': -79.43978950381364}],\n        'distance': 278,\n        'postalCode': 'M3H 2S1',\n        'cc': 'CA',\n        'city': 'North York',\n        'state': 'ON',\n        'country': 'Canada',\n        'formattedAddress': ['600 Sheppard Ave W (at Bathurst St.)',\n         'North York ON M3H 2S1',\n         'Canada']},\n       'categories': [{'id': '52f2ab2ebcbc57f1066b8b46',\n         'name': 'Supermarket',\n         'pluralName': 'Supermarkets',\n         'shortName': 'Supermarket',\n         'icon': {'prefix': 'https://ss3.4sqi.net/img/categories_v2/shops/food_grocery_',\n          'suffix': '.png'},\n         'primary': True}],\n       'photos': {'count': 0, 'groups': []}},\n      'referralId': 'e-0-4b05f390f964a5206fe622e3-17'},\n     {'reasons': {'count': 0,\n       'items': [{'summary': 'This spot is popular',\n         'type': 'general',\n         'reasonName': 'globalInteractionReason'}]},\n      'venue': {'id': '4c03e944187ec9287845b67b',\n       'name': 'Sheppard Plaza Variety',\n       'location': {'address': 'Sheppard Ave.',\n        'crossStreet': 'Bathurst St.',\n        'lat': 43.755456362295725,\n        'lng': -79.44069597981954,\n        'labeledLatLngs': [{'label': 'display',\n          'lat': 43.755456362295725,\n          'lng': -79.44069597981954}],\n        'distance': 177,\n        'cc': 'CA',\n        'city': 'Toronto',\n        'state': 'ON',\n        'country': 'Canada',\n        'formattedAddress': ['Sheppard Ave. (Bathurst St.)',\n         'Toronto ON',\n         'Canada']},\n       'categories': [{'id': '4d954b0ea243a5684a65b473',\n         'name': 'Convenience Store',\n         'pluralName': 'Convenience Stores',\n         'shortName': 'Convenience Store',\n         'icon': {'prefix': 'https://ss3.4sqi.net/img/categories_v2/shops/conveniencestore_',\n          'suffix': '.png'},\n         'primary': True}],\n       'photos': {'count': 0, 'groups': []}},\n      'referralId': 'e-0-4c03e944187ec9287845b67b-18'},\n     {'reasons': {'count': 0,\n       'items': [{'summary': 'This spot is popular',\n         'type': 'general',\n         'reasonName': 'globalInteractionReason'}]},\n      'venue': {'id': '4bc36ad24cdfc9b6a0519721',\n       'name': 'RBC Royal Bank',\n       'location': {'address': '4401 BATHURST ST',\n        'crossStreet': 'at Sheppard Ave. W',\n        'lat': 43.755697951682755,\n        'lng': -79.43818263436917,\n        'labeledLatLngs': [{'label': 'display',\n          'lat': 43.755697951682755,\n          'lng': -79.43818263436917}],\n        'distance': 361,\n        'postalCode': 'M3H 3R9',\n        'cc': 'CA',\n        'city': 'North York',\n        'state': 'ON',\n        'country': 'Canada',\n        'formattedAddress': ['4401 BATHURST ST (at Sheppard Ave. W)',\n         'North York ON M3H 3R9',\n         'Canada']},\n       'categories': [{'id': '4bf58dd8d48988d10a951735',\n         'name': 'Bank',\n         'pluralName': 'Banks',\n         'shortName': 'Bank',\n         'icon': {'prefix': 'https://ss3.4sqi.net/img/categories_v2/shops/financial_',\n          'suffix': '.png'},\n         'primary': True}],\n       'photos': {'count': 0, 'groups': []}},\n      'referralId': 'e-0-4bc36ad24cdfc9b6a0519721-19'}]}]}}"
                    },
                    "execution_count": 19,
                    "metadata": {},
                    "output_type": "execute_result"
                }
            ],
            "source": "results = requests.get(url).json()\nresults"
        },
        {
            "cell_type": "code",
            "execution_count": 20,
            "metadata": {},
            "outputs": [],
            "source": "# function that extracts the category of the venue\ndef get_category_type(row):\n    try:\n        categories_list = row['categories']\n    except:\n        categories_list = row['venue.categories']\n        \n    if len(categories_list) == 0:\n        return None\n    else:\n        return categories_list[0]['name']"
        },
        {
            "cell_type": "code",
            "execution_count": 21,
            "metadata": {},
            "outputs": [
                {
                    "data": {
                        "text/html": "<div>\n<style scoped>\n    .dataframe tbody tr th:only-of-type {\n        vertical-align: middle;\n    }\n\n    .dataframe tbody tr th {\n        vertical-align: top;\n    }\n\n    .dataframe thead th {\n        text-align: right;\n    }\n</style>\n<table border=\"1\" class=\"dataframe\">\n  <thead>\n    <tr style=\"text-align: right;\">\n      <th></th>\n      <th>name</th>\n      <th>categories</th>\n      <th>lat</th>\n      <th>lng</th>\n    </tr>\n  </thead>\n  <tbody>\n    <tr>\n      <th>0</th>\n      <td>Wolfie's Deli</td>\n      <td>Deli / Bodega</td>\n      <td>43.754875</td>\n      <td>-79.442438</td>\n    </tr>\n    <tr>\n      <th>1</th>\n      <td>Bagel Plus</td>\n      <td>Restaurant</td>\n      <td>43.755395</td>\n      <td>-79.440686</td>\n    </tr>\n    <tr>\n      <th>2</th>\n      <td>Orly Restaurant &amp; Grill</td>\n      <td>Middle Eastern Restaurant</td>\n      <td>43.754493</td>\n      <td>-79.443507</td>\n    </tr>\n    <tr>\n      <th>3</th>\n      <td>Best for Bride in Toronto</td>\n      <td>Bridal Shop</td>\n      <td>43.755789</td>\n      <td>-79.437834</td>\n    </tr>\n    <tr>\n      <th>4</th>\n      <td>Starbucks</td>\n      <td>Coffee Shop</td>\n      <td>43.755703</td>\n      <td>-79.440483</td>\n    </tr>\n  </tbody>\n</table>\n</div>",
                        "text/plain": "                        name                 categories        lat        lng\n0              Wolfie's Deli              Deli / Bodega  43.754875 -79.442438\n1                 Bagel Plus                 Restaurant  43.755395 -79.440686\n2    Orly Restaurant & Grill  Middle Eastern Restaurant  43.754493 -79.443507\n3  Best for Bride in Toronto                Bridal Shop  43.755789 -79.437834\n4                  Starbucks                Coffee Shop  43.755703 -79.440483"
                    },
                    "execution_count": 21,
                    "metadata": {},
                    "output_type": "execute_result"
                }
            ],
            "source": "venues = results['response']['groups'][0]['items']\n    \nnearby_venues = json_normalize(venues) # flatten JSON\n\n# filter columns\nfiltered_columns = ['venue.name', 'venue.categories', 'venue.location.lat', 'venue.location.lng']\nnearby_venues =nearby_venues.loc[:, filtered_columns]\n\n# filter the category for each row\nnearby_venues['venue.categories'] = nearby_venues.apply(get_category_type, axis=1)\n\n# clean columns\nnearby_venues.columns = [col.split(\".\")[-1] for col in nearby_venues.columns]\n\nnearby_venues.head()"
        },
        {
            "cell_type": "code",
            "execution_count": 22,
            "metadata": {},
            "outputs": [
                {
                    "name": "stdout",
                    "output_type": "stream",
                    "text": "20 venues were returned by Foursquare.\n"
                }
            ],
            "source": "print('{} venues were returned by Foursquare.'.format(nearby_venues.shape[0]))"
        },
        {
            "cell_type": "code",
            "execution_count": 23,
            "metadata": {},
            "outputs": [],
            "source": "def getNearbyVenues(names, latitudes, longitudes, radius=500):\n    \n    venues_list=[]\n    for name, lat, lng in zip(names, latitudes, longitudes):\n        print(name)\n            \n        # create the API request URL\n        url = 'https://api.foursquare.com/v2/venues/explore?&client_id={}&client_secret={}&v={}&ll={},{}&radius={}&limit={}'.format(\n            CLIENT_ID, \n            CLIENT_SECRET, \n            VERSION, \n            lat, \n            lng, \n            radius, \n            LIMIT)\n            \n        # make the GET request\n        results = requests.get(url).json()[\"response\"]['groups'][0]['items']\n        \n        # return only relevant information for each nearby venue\n        venues_list.append([(\n            name, \n            lat, \n            lng, \n            v['venue']['name'], \n            v['venue']['location']['lat'], \n            v['venue']['location']['lng'],  \n            v['venue']['categories'][0]['name']) for v in results])\n\n    nearby_venues = pd.DataFrame([item for venue_list in venues_list for item in venue_list])\n    nearby_venues.columns = ['Neighborhood', \n                  'Neighborhood Latitude', \n                  'Neighborhood Longitude', \n                  'Venue', \n                  'Venue Latitude', \n                  'Venue Longitude', \n                  'Venue Category']\n    \n    return(nearby_venues)"
        },
        {
            "cell_type": "code",
            "execution_count": 24,
            "metadata": {},
            "outputs": [
                {
                    "name": "stdout",
                    "output_type": "stream",
                    "text": "Bathurst Manor,Wilson Heights,Downsview North\nThe Danforth West,Riverdale\nNew Toronto,Mimico South,Humber Bay Shores\n"
                }
            ],
            "source": "# type your answer here\n\ntoronto_venues = getNearbyVenues(names=out['Neighborhood'],\n                                   latitudes=out['Latitude'],\n                                   longitudes=out['Longitude']\n                                  )\n\n"
        },
        {
            "cell_type": "code",
            "execution_count": 25,
            "metadata": {},
            "outputs": [
                {
                    "name": "stdout",
                    "output_type": "stream",
                    "text": "(74, 7)\n"
                },
                {
                    "data": {
                        "text/html": "<div>\n<style scoped>\n    .dataframe tbody tr th:only-of-type {\n        vertical-align: middle;\n    }\n\n    .dataframe tbody tr th {\n        vertical-align: top;\n    }\n\n    .dataframe thead th {\n        text-align: right;\n    }\n</style>\n<table border=\"1\" class=\"dataframe\">\n  <thead>\n    <tr style=\"text-align: right;\">\n      <th></th>\n      <th>Neighborhood</th>\n      <th>Neighborhood Latitude</th>\n      <th>Neighborhood Longitude</th>\n      <th>Venue</th>\n      <th>Venue Latitude</th>\n      <th>Venue Longitude</th>\n      <th>Venue Category</th>\n    </tr>\n  </thead>\n  <tbody>\n    <tr>\n      <th>0</th>\n      <td>Bathurst Manor,Wilson Heights,Downsview North</td>\n      <td>43.754328</td>\n      <td>-79.442259</td>\n      <td>Wolfie's Deli</td>\n      <td>43.754875</td>\n      <td>-79.442438</td>\n      <td>Deli / Bodega</td>\n    </tr>\n    <tr>\n      <th>1</th>\n      <td>Bathurst Manor,Wilson Heights,Downsview North</td>\n      <td>43.754328</td>\n      <td>-79.442259</td>\n      <td>Bagel Plus</td>\n      <td>43.755395</td>\n      <td>-79.440686</td>\n      <td>Restaurant</td>\n    </tr>\n    <tr>\n      <th>2</th>\n      <td>Bathurst Manor,Wilson Heights,Downsview North</td>\n      <td>43.754328</td>\n      <td>-79.442259</td>\n      <td>Orly Restaurant &amp; Grill</td>\n      <td>43.754493</td>\n      <td>-79.443507</td>\n      <td>Middle Eastern Restaurant</td>\n    </tr>\n    <tr>\n      <th>3</th>\n      <td>Bathurst Manor,Wilson Heights,Downsview North</td>\n      <td>43.754328</td>\n      <td>-79.442259</td>\n      <td>Best for Bride in Toronto</td>\n      <td>43.755789</td>\n      <td>-79.437834</td>\n      <td>Bridal Shop</td>\n    </tr>\n    <tr>\n      <th>4</th>\n      <td>Bathurst Manor,Wilson Heights,Downsview North</td>\n      <td>43.754328</td>\n      <td>-79.442259</td>\n      <td>Starbucks</td>\n      <td>43.755703</td>\n      <td>-79.440483</td>\n      <td>Coffee Shop</td>\n    </tr>\n  </tbody>\n</table>\n</div>",
                        "text/plain": "                                    Neighborhood  Neighborhood Latitude  \\\n0  Bathurst Manor,Wilson Heights,Downsview North              43.754328   \n1  Bathurst Manor,Wilson Heights,Downsview North              43.754328   \n2  Bathurst Manor,Wilson Heights,Downsview North              43.754328   \n3  Bathurst Manor,Wilson Heights,Downsview North              43.754328   \n4  Bathurst Manor,Wilson Heights,Downsview North              43.754328   \n\n   Neighborhood Longitude                      Venue  Venue Latitude  \\\n0              -79.442259              Wolfie's Deli       43.754875   \n1              -79.442259                 Bagel Plus       43.755395   \n2              -79.442259    Orly Restaurant & Grill       43.754493   \n3              -79.442259  Best for Bride in Toronto       43.755789   \n4              -79.442259                  Starbucks       43.755703   \n\n   Venue Longitude             Venue Category  \n0       -79.442438              Deli / Bodega  \n1       -79.440686                 Restaurant  \n2       -79.443507  Middle Eastern Restaurant  \n3       -79.437834                Bridal Shop  \n4       -79.440483                Coffee Shop  "
                    },
                    "execution_count": 25,
                    "metadata": {},
                    "output_type": "execute_result"
                }
            ],
            "source": "print(toronto_venues.shape)\ntoronto_venues.head()"
        },
        {
            "cell_type": "code",
            "execution_count": 26,
            "metadata": {},
            "outputs": [
                {
                    "data": {
                        "text/html": "<div>\n<style scoped>\n    .dataframe tbody tr th:only-of-type {\n        vertical-align: middle;\n    }\n\n    .dataframe tbody tr th {\n        vertical-align: top;\n    }\n\n    .dataframe thead th {\n        text-align: right;\n    }\n</style>\n<table border=\"1\" class=\"dataframe\">\n  <thead>\n    <tr style=\"text-align: right;\">\n      <th></th>\n      <th>Neighborhood Latitude</th>\n      <th>Neighborhood Longitude</th>\n      <th>Venue</th>\n      <th>Venue Latitude</th>\n      <th>Venue Longitude</th>\n      <th>Venue Category</th>\n    </tr>\n    <tr>\n      <th>Neighborhood</th>\n      <th></th>\n      <th></th>\n      <th></th>\n      <th></th>\n      <th></th>\n      <th></th>\n    </tr>\n  </thead>\n  <tbody>\n    <tr>\n      <th>Bathurst Manor,Wilson Heights,Downsview North</th>\n      <td>20</td>\n      <td>20</td>\n      <td>20</td>\n      <td>20</td>\n      <td>20</td>\n      <td>20</td>\n    </tr>\n    <tr>\n      <th>New Toronto,Mimico South,Humber Bay Shores</th>\n      <td>12</td>\n      <td>12</td>\n      <td>12</td>\n      <td>12</td>\n      <td>12</td>\n      <td>12</td>\n    </tr>\n    <tr>\n      <th>The Danforth West,Riverdale</th>\n      <td>42</td>\n      <td>42</td>\n      <td>42</td>\n      <td>42</td>\n      <td>42</td>\n      <td>42</td>\n    </tr>\n  </tbody>\n</table>\n</div>",
                        "text/plain": "                                               Neighborhood Latitude  \\\nNeighborhood                                                           \nBathurst Manor,Wilson Heights,Downsview North                     20   \nNew Toronto,Mimico South,Humber Bay Shores                        12   \nThe Danforth West,Riverdale                                       42   \n\n                                               Neighborhood Longitude  Venue  \\\nNeighborhood                                                                   \nBathurst Manor,Wilson Heights,Downsview North                      20     20   \nNew Toronto,Mimico South,Humber Bay Shores                         12     12   \nThe Danforth West,Riverdale                                        42     42   \n\n                                               Venue Latitude  \\\nNeighborhood                                                    \nBathurst Manor,Wilson Heights,Downsview North              20   \nNew Toronto,Mimico South,Humber Bay Shores                 12   \nThe Danforth West,Riverdale                                42   \n\n                                               Venue Longitude  Venue Category  \nNeighborhood                                                                    \nBathurst Manor,Wilson Heights,Downsview North               20              20  \nNew Toronto,Mimico South,Humber Bay Shores                  12              12  \nThe Danforth West,Riverdale                                 42              42  "
                    },
                    "execution_count": 26,
                    "metadata": {},
                    "output_type": "execute_result"
                }
            ],
            "source": "toronto_venues.groupby('Neighborhood').count()"
        },
        {
            "cell_type": "code",
            "execution_count": 27,
            "metadata": {},
            "outputs": [
                {
                    "name": "stdout",
                    "output_type": "stream",
                    "text": "There are 43 uniques categories.\n"
                }
            ],
            "source": "print('There are {} uniques categories.'.format(len(toronto_venues['Venue Category'].unique())))"
        },
        {
            "cell_type": "code",
            "execution_count": 28,
            "metadata": {},
            "outputs": [
                {
                    "data": {
                        "text/html": "<div>\n<style scoped>\n    .dataframe tbody tr th:only-of-type {\n        vertical-align: middle;\n    }\n\n    .dataframe tbody tr th {\n        vertical-align: top;\n    }\n\n    .dataframe thead th {\n        text-align: right;\n    }\n</style>\n<table border=\"1\" class=\"dataframe\">\n  <thead>\n    <tr style=\"text-align: right;\">\n      <th></th>\n      <th>Neighborhood</th>\n      <th>American Restaurant</th>\n      <th>Bakery</th>\n      <th>Bank</th>\n      <th>Bookstore</th>\n      <th>Brewery</th>\n      <th>Bridal Shop</th>\n      <th>Bubble Tea Shop</th>\n      <th>Caf\u00e9</th>\n      <th>Caribbean Restaurant</th>\n      <th>...</th>\n      <th>Pizza Place</th>\n      <th>Pub</th>\n      <th>Restaurant</th>\n      <th>Sandwich Place</th>\n      <th>Shopping Mall</th>\n      <th>Spa</th>\n      <th>Supermarket</th>\n      <th>Sushi Restaurant</th>\n      <th>Trail</th>\n      <th>Yoga Studio</th>\n    </tr>\n  </thead>\n  <tbody>\n    <tr>\n      <th>0</th>\n      <td>Bathurst Manor,Wilson Heights,Downsview North</td>\n      <td>0</td>\n      <td>0</td>\n      <td>0</td>\n      <td>0</td>\n      <td>0</td>\n      <td>0</td>\n      <td>0</td>\n      <td>0</td>\n      <td>0</td>\n      <td>...</td>\n      <td>0</td>\n      <td>0</td>\n      <td>0</td>\n      <td>0</td>\n      <td>0</td>\n      <td>0</td>\n      <td>0</td>\n      <td>0</td>\n      <td>0</td>\n      <td>0</td>\n    </tr>\n    <tr>\n      <th>1</th>\n      <td>Bathurst Manor,Wilson Heights,Downsview North</td>\n      <td>0</td>\n      <td>0</td>\n      <td>0</td>\n      <td>0</td>\n      <td>0</td>\n      <td>0</td>\n      <td>0</td>\n      <td>0</td>\n      <td>0</td>\n      <td>...</td>\n      <td>0</td>\n      <td>0</td>\n      <td>1</td>\n      <td>0</td>\n      <td>0</td>\n      <td>0</td>\n      <td>0</td>\n      <td>0</td>\n      <td>0</td>\n      <td>0</td>\n    </tr>\n    <tr>\n      <th>2</th>\n      <td>Bathurst Manor,Wilson Heights,Downsview North</td>\n      <td>0</td>\n      <td>0</td>\n      <td>0</td>\n      <td>0</td>\n      <td>0</td>\n      <td>0</td>\n      <td>0</td>\n      <td>0</td>\n      <td>0</td>\n      <td>...</td>\n      <td>0</td>\n      <td>0</td>\n      <td>0</td>\n      <td>0</td>\n      <td>0</td>\n      <td>0</td>\n      <td>0</td>\n      <td>0</td>\n      <td>0</td>\n      <td>0</td>\n    </tr>\n    <tr>\n      <th>3</th>\n      <td>Bathurst Manor,Wilson Heights,Downsview North</td>\n      <td>0</td>\n      <td>0</td>\n      <td>0</td>\n      <td>0</td>\n      <td>0</td>\n      <td>1</td>\n      <td>0</td>\n      <td>0</td>\n      <td>0</td>\n      <td>...</td>\n      <td>0</td>\n      <td>0</td>\n      <td>0</td>\n      <td>0</td>\n      <td>0</td>\n      <td>0</td>\n      <td>0</td>\n      <td>0</td>\n      <td>0</td>\n      <td>0</td>\n    </tr>\n    <tr>\n      <th>4</th>\n      <td>Bathurst Manor,Wilson Heights,Downsview North</td>\n      <td>0</td>\n      <td>0</td>\n      <td>0</td>\n      <td>0</td>\n      <td>0</td>\n      <td>0</td>\n      <td>0</td>\n      <td>0</td>\n      <td>0</td>\n      <td>...</td>\n      <td>0</td>\n      <td>0</td>\n      <td>0</td>\n      <td>0</td>\n      <td>0</td>\n      <td>0</td>\n      <td>0</td>\n      <td>0</td>\n      <td>0</td>\n      <td>0</td>\n    </tr>\n  </tbody>\n</table>\n<p>5 rows \u00d7 44 columns</p>\n</div>",
                        "text/plain": "                                    Neighborhood  American Restaurant  Bakery  \\\n0  Bathurst Manor,Wilson Heights,Downsview North                    0       0   \n1  Bathurst Manor,Wilson Heights,Downsview North                    0       0   \n2  Bathurst Manor,Wilson Heights,Downsview North                    0       0   \n3  Bathurst Manor,Wilson Heights,Downsview North                    0       0   \n4  Bathurst Manor,Wilson Heights,Downsview North                    0       0   \n\n   Bank  Bookstore  Brewery  Bridal Shop  Bubble Tea Shop  Caf\u00e9  \\\n0     0          0        0            0                0     0   \n1     0          0        0            0                0     0   \n2     0          0        0            0                0     0   \n3     0          0        0            1                0     0   \n4     0          0        0            0                0     0   \n\n   Caribbean Restaurant  ...  Pizza Place  Pub  Restaurant  Sandwich Place  \\\n0                     0  ...            0    0           0               0   \n1                     0  ...            0    0           1               0   \n2                     0  ...            0    0           0               0   \n3                     0  ...            0    0           0               0   \n4                     0  ...            0    0           0               0   \n\n   Shopping Mall  Spa  Supermarket  Sushi Restaurant  Trail  Yoga Studio  \n0              0    0            0                 0      0            0  \n1              0    0            0                 0      0            0  \n2              0    0            0                 0      0            0  \n3              0    0            0                 0      0            0  \n4              0    0            0                 0      0            0  \n\n[5 rows x 44 columns]"
                    },
                    "execution_count": 28,
                    "metadata": {},
                    "output_type": "execute_result"
                }
            ],
            "source": "# one hot encoding\ntoronto_onehot = pd.get_dummies(toronto_venues[['Venue Category']], prefix=\"\", prefix_sep=\"\")\n\n# add neighborhood column back to dataframe\ntoronto_onehot['Neighborhood'] = toronto_venues['Neighborhood'] \n\n# move neighborhood column to the first column\nfixed_columns = [toronto_onehot.columns[-1]] + list(toronto_onehot.columns[:-1])\ntoronto_onehot = toronto_onehot[fixed_columns]\n\ntoronto_onehot.head()"
        },
        {
            "cell_type": "code",
            "execution_count": 29,
            "metadata": {},
            "outputs": [
                {
                    "data": {
                        "text/plain": "(74, 44)"
                    },
                    "execution_count": 29,
                    "metadata": {},
                    "output_type": "execute_result"
                }
            ],
            "source": "toronto_onehot.shape"
        },
        {
            "cell_type": "code",
            "execution_count": 30,
            "metadata": {},
            "outputs": [
                {
                    "data": {
                        "text/html": "<div>\n<style scoped>\n    .dataframe tbody tr th:only-of-type {\n        vertical-align: middle;\n    }\n\n    .dataframe tbody tr th {\n        vertical-align: top;\n    }\n\n    .dataframe thead th {\n        text-align: right;\n    }\n</style>\n<table border=\"1\" class=\"dataframe\">\n  <thead>\n    <tr style=\"text-align: right;\">\n      <th></th>\n      <th>Neighborhood</th>\n      <th>American Restaurant</th>\n      <th>Bakery</th>\n      <th>Bank</th>\n      <th>Bookstore</th>\n      <th>Brewery</th>\n      <th>Bridal Shop</th>\n      <th>Bubble Tea Shop</th>\n      <th>Caf\u00e9</th>\n      <th>Caribbean Restaurant</th>\n      <th>...</th>\n      <th>Pizza Place</th>\n      <th>Pub</th>\n      <th>Restaurant</th>\n      <th>Sandwich Place</th>\n      <th>Shopping Mall</th>\n      <th>Spa</th>\n      <th>Supermarket</th>\n      <th>Sushi Restaurant</th>\n      <th>Trail</th>\n      <th>Yoga Studio</th>\n    </tr>\n  </thead>\n  <tbody>\n    <tr>\n      <th>0</th>\n      <td>Bathurst Manor,Wilson Heights,Downsview North</td>\n      <td>0.000000</td>\n      <td>0.000000</td>\n      <td>0.1</td>\n      <td>0.000000</td>\n      <td>0.00000</td>\n      <td>0.05</td>\n      <td>0.00000</td>\n      <td>0.000000</td>\n      <td>0.00000</td>\n      <td>...</td>\n      <td>0.050000</td>\n      <td>0.00000</td>\n      <td>0.050000</td>\n      <td>0.05</td>\n      <td>0.05</td>\n      <td>0.00000</td>\n      <td>0.05</td>\n      <td>0.05</td>\n      <td>0.00000</td>\n      <td>0.00000</td>\n    </tr>\n    <tr>\n      <th>1</th>\n      <td>New Toronto,Mimico South,Humber Bay Shores</td>\n      <td>0.083333</td>\n      <td>0.083333</td>\n      <td>0.0</td>\n      <td>0.000000</td>\n      <td>0.00000</td>\n      <td>0.00</td>\n      <td>0.00000</td>\n      <td>0.083333</td>\n      <td>0.00000</td>\n      <td>...</td>\n      <td>0.083333</td>\n      <td>0.00000</td>\n      <td>0.083333</td>\n      <td>0.00</td>\n      <td>0.00</td>\n      <td>0.00000</td>\n      <td>0.00</td>\n      <td>0.00</td>\n      <td>0.00000</td>\n      <td>0.00000</td>\n    </tr>\n    <tr>\n      <th>2</th>\n      <td>The Danforth West,Riverdale</td>\n      <td>0.023810</td>\n      <td>0.023810</td>\n      <td>0.0</td>\n      <td>0.047619</td>\n      <td>0.02381</td>\n      <td>0.00</td>\n      <td>0.02381</td>\n      <td>0.023810</td>\n      <td>0.02381</td>\n      <td>...</td>\n      <td>0.023810</td>\n      <td>0.02381</td>\n      <td>0.023810</td>\n      <td>0.00</td>\n      <td>0.00</td>\n      <td>0.02381</td>\n      <td>0.00</td>\n      <td>0.00</td>\n      <td>0.02381</td>\n      <td>0.02381</td>\n    </tr>\n  </tbody>\n</table>\n<p>3 rows \u00d7 44 columns</p>\n</div>",
                        "text/plain": "                                    Neighborhood  American Restaurant  \\\n0  Bathurst Manor,Wilson Heights,Downsview North             0.000000   \n1     New Toronto,Mimico South,Humber Bay Shores             0.083333   \n2                    The Danforth West,Riverdale             0.023810   \n\n     Bakery  Bank  Bookstore  Brewery  Bridal Shop  Bubble Tea Shop      Caf\u00e9  \\\n0  0.000000   0.1   0.000000  0.00000         0.05          0.00000  0.000000   \n1  0.083333   0.0   0.000000  0.00000         0.00          0.00000  0.083333   \n2  0.023810   0.0   0.047619  0.02381         0.00          0.02381  0.023810   \n\n   Caribbean Restaurant  ...  Pizza Place      Pub  Restaurant  \\\n0               0.00000  ...     0.050000  0.00000    0.050000   \n1               0.00000  ...     0.083333  0.00000    0.083333   \n2               0.02381  ...     0.023810  0.02381    0.023810   \n\n   Sandwich Place  Shopping Mall      Spa  Supermarket  Sushi Restaurant  \\\n0            0.05           0.05  0.00000         0.05              0.05   \n1            0.00           0.00  0.00000         0.00              0.00   \n2            0.00           0.00  0.02381         0.00              0.00   \n\n     Trail  Yoga Studio  \n0  0.00000      0.00000  \n1  0.00000      0.00000  \n2  0.02381      0.02381  \n\n[3 rows x 44 columns]"
                    },
                    "execution_count": 30,
                    "metadata": {},
                    "output_type": "execute_result"
                }
            ],
            "source": "toronto_grouped = toronto_onehot.groupby('Neighborhood').mean().reset_index()\ntoronto_grouped"
        },
        {
            "cell_type": "code",
            "execution_count": 32,
            "metadata": {},
            "outputs": [
                {
                    "data": {
                        "text/plain": "(3, 44)"
                    },
                    "execution_count": 32,
                    "metadata": {},
                    "output_type": "execute_result"
                }
            ],
            "source": "toronto_grouped.shape"
        },
        {
            "cell_type": "code",
            "execution_count": 33,
            "metadata": {},
            "outputs": [
                {
                    "name": "stdout",
                    "output_type": "stream",
                    "text": "----Bathurst Manor,Wilson Heights,Downsview North----\n            venue  freq\n0            Bank  0.10\n1     Coffee Shop  0.10\n2      Restaurant  0.05\n3  Sandwich Place  0.05\n4     Pizza Place  0.05\n\n\n----New Toronto,Mimico South,Humber Bay Shores----\n                 venue  freq\n0  American Restaurant  0.08\n1           Restaurant  0.08\n2               Bakery  0.08\n3         Liquor Store  0.08\n4   Mexican Restaurant  0.08\n\n\n----The Danforth West,Riverdale----\n                    venue  freq\n0        Greek Restaurant  0.21\n1             Coffee Shop  0.10\n2      Italian Restaurant  0.07\n3  Furniture / Home Store  0.05\n4               Bookstore  0.05\n\n\n"
                }
            ],
            "source": "num_top_venues = 5\n\nfor hood in toronto_grouped['Neighborhood']:\n    print(\"----\"+hood+\"----\")\n    temp = toronto_grouped[toronto_grouped['Neighborhood'] == hood].T.reset_index()\n    temp.columns = ['venue','freq']\n    temp = temp.iloc[1:]\n    temp['freq'] = temp['freq'].astype(float)\n    temp = temp.round({'freq': 2})\n    print(temp.sort_values('freq', ascending=False).reset_index(drop=True).head(num_top_venues))\n    print('\\n')"
        },
        {
            "cell_type": "code",
            "execution_count": 34,
            "metadata": {},
            "outputs": [],
            "source": "def return_most_common_venues(row, num_top_venues):\n    row_categories = row.iloc[1:]\n    row_categories_sorted = row_categories.sort_values(ascending=False)\n    \n    return row_categories_sorted.index.values[0:num_top_venues]"
        },
        {
            "cell_type": "code",
            "execution_count": 37,
            "metadata": {},
            "outputs": [
                {
                    "data": {
                        "text/html": "<div>\n<style scoped>\n    .dataframe tbody tr th:only-of-type {\n        vertical-align: middle;\n    }\n\n    .dataframe tbody tr th {\n        vertical-align: top;\n    }\n\n    .dataframe thead th {\n        text-align: right;\n    }\n</style>\n<table border=\"1\" class=\"dataframe\">\n  <thead>\n    <tr style=\"text-align: right;\">\n      <th></th>\n      <th>Neighborhood</th>\n      <th>1st Most Common Venue</th>\n      <th>2nd Most Common Venue</th>\n      <th>3rd Most Common Venue</th>\n      <th>4th Most Common Venue</th>\n      <th>5th Most Common Venue</th>\n      <th>6th Most Common Venue</th>\n      <th>7th Most Common Venue</th>\n      <th>8th Most Common Venue</th>\n      <th>9th Most Common Venue</th>\n      <th>10th Most Common Venue</th>\n    </tr>\n  </thead>\n  <tbody>\n    <tr>\n      <th>0</th>\n      <td>Bathurst Manor,Wilson Heights,Downsview North</td>\n      <td>Coffee Shop</td>\n      <td>Bank</td>\n      <td>Convenience Store</td>\n      <td>Ice Cream Shop</td>\n      <td>Gas Station</td>\n      <td>Deli / Bodega</td>\n      <td>Bridal Shop</td>\n      <td>Diner</td>\n      <td>Middle Eastern Restaurant</td>\n      <td>Fried Chicken Joint</td>\n    </tr>\n    <tr>\n      <th>1</th>\n      <td>New Toronto,Mimico South,Humber Bay Shores</td>\n      <td>American Restaurant</td>\n      <td>Pizza Place</td>\n      <td>Fast Food Restaurant</td>\n      <td>Gym</td>\n      <td>Liquor Store</td>\n      <td>Mexican Restaurant</td>\n      <td>Pet Store</td>\n      <td>Pharmacy</td>\n      <td>Caf\u00e9</td>\n      <td>Restaurant</td>\n    </tr>\n    <tr>\n      <th>2</th>\n      <td>The Danforth West,Riverdale</td>\n      <td>Greek Restaurant</td>\n      <td>Coffee Shop</td>\n      <td>Italian Restaurant</td>\n      <td>Bookstore</td>\n      <td>Ice Cream Shop</td>\n      <td>Furniture / Home Store</td>\n      <td>Brewery</td>\n      <td>Bubble Tea Shop</td>\n      <td>Caf\u00e9</td>\n      <td>Caribbean Restaurant</td>\n    </tr>\n  </tbody>\n</table>\n</div>",
                        "text/plain": "                                    Neighborhood 1st Most Common Venue  \\\n0  Bathurst Manor,Wilson Heights,Downsview North           Coffee Shop   \n1     New Toronto,Mimico South,Humber Bay Shores   American Restaurant   \n2                    The Danforth West,Riverdale      Greek Restaurant   \n\n  2nd Most Common Venue 3rd Most Common Venue 4th Most Common Venue  \\\n0                  Bank     Convenience Store        Ice Cream Shop   \n1           Pizza Place  Fast Food Restaurant                   Gym   \n2           Coffee Shop    Italian Restaurant             Bookstore   \n\n  5th Most Common Venue   6th Most Common Venue 7th Most Common Venue  \\\n0           Gas Station           Deli / Bodega           Bridal Shop   \n1          Liquor Store      Mexican Restaurant             Pet Store   \n2        Ice Cream Shop  Furniture / Home Store               Brewery   \n\n  8th Most Common Venue      9th Most Common Venue 10th Most Common Venue  \n0                 Diner  Middle Eastern Restaurant    Fried Chicken Joint  \n1              Pharmacy                       Caf\u00e9             Restaurant  \n2       Bubble Tea Shop                       Caf\u00e9   Caribbean Restaurant  "
                    },
                    "execution_count": 37,
                    "metadata": {},
                    "output_type": "execute_result"
                }
            ],
            "source": "import numpy as np\nnum_top_venues = 10\n\nindicators = ['st', 'nd', 'rd']\n\n# create columns according to number of top venues\ncolumns = ['Neighborhood']\nfor ind in np.arange(num_top_venues):\n    try:\n        columns.append('{}{} Most Common Venue'.format(ind+1, indicators[ind]))\n    except:\n        columns.append('{}th Most Common Venue'.format(ind+1))\n\n# create a new dataframe\nneighborhoods_venues_sorted = pd.DataFrame(columns=columns)\nneighborhoods_venues_sorted['Neighborhood'] = toronto_grouped['Neighborhood']\n\nfor ind in np.arange(toronto_grouped.shape[0]):\n    neighborhoods_venues_sorted.iloc[ind, 1:] = return_most_common_venues(toronto_grouped.iloc[ind, :], num_top_venues)\n\nneighborhoods_venues_sorted.head()"
        },
        {
            "cell_type": "code",
            "execution_count": 38,
            "metadata": {},
            "outputs": [
                {
                    "data": {
                        "text/plain": "array([0, 2, 1], dtype=int32)"
                    },
                    "execution_count": 38,
                    "metadata": {},
                    "output_type": "execute_result"
                }
            ],
            "source": "# set number of clusters\nkclusters = 3\n\ntoronto_grouped_clustering = toronto_grouped.drop('Neighborhood', 1)\n\n# run k-means clustering\nkmeans = KMeans(n_clusters=kclusters, random_state=0).fit(toronto_grouped_clustering)\n\n# check cluster labels generated for each row in the dataframe\nkmeans.labels_[0:10] "
        },
        {
            "cell_type": "code",
            "execution_count": 39,
            "metadata": {},
            "outputs": [
                {
                    "data": {
                        "text/html": "<div>\n<style scoped>\n    .dataframe tbody tr th:only-of-type {\n        vertical-align: middle;\n    }\n\n    .dataframe tbody tr th {\n        vertical-align: top;\n    }\n\n    .dataframe thead th {\n        text-align: right;\n    }\n</style>\n<table border=\"1\" class=\"dataframe\">\n  <thead>\n    <tr style=\"text-align: right;\">\n      <th></th>\n      <th>index</th>\n      <th>PostalCode</th>\n      <th>Borough</th>\n      <th>Neighborhood</th>\n      <th>Latitude</th>\n      <th>Longitude</th>\n      <th>Cluster Labels</th>\n      <th>1st Most Common Venue</th>\n      <th>2nd Most Common Venue</th>\n      <th>3rd Most Common Venue</th>\n      <th>4th Most Common Venue</th>\n      <th>5th Most Common Venue</th>\n      <th>6th Most Common Venue</th>\n      <th>7th Most Common Venue</th>\n      <th>8th Most Common Venue</th>\n      <th>9th Most Common Venue</th>\n      <th>10th Most Common Venue</th>\n    </tr>\n  </thead>\n  <tbody>\n    <tr>\n      <th>0</th>\n      <td>28</td>\n      <td>M3H</td>\n      <td>North York</td>\n      <td>Bathurst Manor,Wilson Heights,Downsview North</td>\n      <td>43.754328</td>\n      <td>-79.442259</td>\n      <td>0</td>\n      <td>Coffee Shop</td>\n      <td>Bank</td>\n      <td>Convenience Store</td>\n      <td>Ice Cream Shop</td>\n      <td>Gas Station</td>\n      <td>Deli / Bodega</td>\n      <td>Bridal Shop</td>\n      <td>Diner</td>\n      <td>Middle Eastern Restaurant</td>\n      <td>Fried Chicken Joint</td>\n    </tr>\n    <tr>\n      <th>1</th>\n      <td>41</td>\n      <td>M4K</td>\n      <td>East Toronto</td>\n      <td>The Danforth West,Riverdale</td>\n      <td>43.679557</td>\n      <td>-79.352188</td>\n      <td>1</td>\n      <td>Greek Restaurant</td>\n      <td>Coffee Shop</td>\n      <td>Italian Restaurant</td>\n      <td>Bookstore</td>\n      <td>Ice Cream Shop</td>\n      <td>Furniture / Home Store</td>\n      <td>Brewery</td>\n      <td>Bubble Tea Shop</td>\n      <td>Caf\u00e9</td>\n      <td>Caribbean Restaurant</td>\n    </tr>\n    <tr>\n      <th>2</th>\n      <td>88</td>\n      <td>M8V</td>\n      <td>Etobicoke</td>\n      <td>New Toronto,Mimico South,Humber Bay Shores</td>\n      <td>43.605647</td>\n      <td>-79.501321</td>\n      <td>2</td>\n      <td>American Restaurant</td>\n      <td>Pizza Place</td>\n      <td>Fast Food Restaurant</td>\n      <td>Gym</td>\n      <td>Liquor Store</td>\n      <td>Mexican Restaurant</td>\n      <td>Pet Store</td>\n      <td>Pharmacy</td>\n      <td>Caf\u00e9</td>\n      <td>Restaurant</td>\n    </tr>\n  </tbody>\n</table>\n</div>",
                        "text/plain": "   index PostalCode       Borough  \\\n0     28        M3H    North York   \n1     41        M4K  East Toronto   \n2     88        M8V     Etobicoke   \n\n                                    Neighborhood   Latitude  Longitude  \\\n0  Bathurst Manor,Wilson Heights,Downsview North  43.754328 -79.442259   \n1                    The Danforth West,Riverdale  43.679557 -79.352188   \n2     New Toronto,Mimico South,Humber Bay Shores  43.605647 -79.501321   \n\n   Cluster Labels 1st Most Common Venue 2nd Most Common Venue  \\\n0               0           Coffee Shop                  Bank   \n1               1      Greek Restaurant           Coffee Shop   \n2               2   American Restaurant           Pizza Place   \n\n  3rd Most Common Venue 4th Most Common Venue 5th Most Common Venue  \\\n0     Convenience Store        Ice Cream Shop           Gas Station   \n1    Italian Restaurant             Bookstore        Ice Cream Shop   \n2  Fast Food Restaurant                   Gym          Liquor Store   \n\n    6th Most Common Venue 7th Most Common Venue 8th Most Common Venue  \\\n0           Deli / Bodega           Bridal Shop                 Diner   \n1  Furniture / Home Store               Brewery       Bubble Tea Shop   \n2      Mexican Restaurant             Pet Store              Pharmacy   \n\n       9th Most Common Venue 10th Most Common Venue  \n0  Middle Eastern Restaurant    Fried Chicken Joint  \n1                       Caf\u00e9   Caribbean Restaurant  \n2                       Caf\u00e9             Restaurant  "
                    },
                    "execution_count": 39,
                    "metadata": {},
                    "output_type": "execute_result"
                }
            ],
            "source": "# add clustering labels\nneighborhoods_venues_sorted.insert(0, 'Cluster Labels', kmeans.labels_)\n\ntoronto_merged = out\n\n# merge toronto_grouped with toronto_data to add latitude/longitude for each neighborhood\ntoronto_merged = toronto_merged.join(neighborhoods_venues_sorted.set_index('Neighborhood'), on='Neighborhood')\n\ntoronto_merged.head() # check the last columns!"
        },
        {
            "cell_type": "code",
            "execution_count": 44,
            "metadata": {},
            "outputs": [
                {
                    "data": {
                        "text/html": "<div style=\"width:100%;\"><div style=\"position:relative;width:100%;height:0;padding-bottom:60%;\"><iframe src=\"about:blank\" style=\"position:absolute;width:100%;height:100%;left:0;top:0;border:none !important;\" data-html=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 onload=\"this.contentDocument.open();this.contentDocument.write(atob(this.getAttribute('data-html')));this.contentDocument.close();\" allowfullscreen webkitallowfullscreen mozallowfullscreen></iframe></div></div>",
                        "text/plain": "<folium.folium.Map at 0x7f7065ff5f98>"
                    },
                    "execution_count": 44,
                    "metadata": {},
                    "output_type": "execute_result"
                }
            ],
            "source": "# create map\nmap_clusters = folium.Map(location=[43.651070, -79.347015], zoom_start=10)\n\n# set color scheme for the clusters\nx = np.arange(kclusters)\nys = [i + x + (i*x)**2 for i in range(kclusters)]\ncolors_array = cm.rainbow(np.linspace(0, 1, len(ys)))\nrainbow = [colors.rgb2hex(i) for i in colors_array]\n\n# add markers to the map\nmarkers_colors = []\nfor lat, lon, poi, cluster in zip(toronto_merged['Latitude'], toronto_merged['Longitude'], toronto_merged['Neighborhood'], toronto_merged['Cluster Labels']):\n    label = folium.Popup(str(poi) + ' Cluster ' + str(cluster), parse_html=True)\n    folium.CircleMarker(\n        [lat, lon],\n        radius=5,\n        popup=label,\n        color=rainbow[cluster-1],\n        fill=True,\n        fill_color=rainbow[cluster-1],\n        fill_opacity=0.7).add_to(map_clusters)\n       \nmap_clusters"
        },
        {
            "cell_type": "code",
            "execution_count": 46,
            "metadata": {},
            "outputs": [
                {
                    "data": {
                        "text/html": "<div>\n<style scoped>\n    .dataframe tbody tr th:only-of-type {\n        vertical-align: middle;\n    }\n\n    .dataframe tbody tr th {\n        vertical-align: top;\n    }\n\n    .dataframe thead th {\n        text-align: right;\n    }\n</style>\n<table border=\"1\" class=\"dataframe\">\n  <thead>\n    <tr style=\"text-align: right;\">\n      <th></th>\n      <th>PostalCode</th>\n      <th>Longitude</th>\n      <th>Cluster Labels</th>\n      <th>1st Most Common Venue</th>\n      <th>2nd Most Common Venue</th>\n      <th>3rd Most Common Venue</th>\n      <th>4th Most Common Venue</th>\n      <th>5th Most Common Venue</th>\n      <th>6th Most Common Venue</th>\n      <th>7th Most Common Venue</th>\n      <th>8th Most Common Venue</th>\n      <th>9th Most Common Venue</th>\n      <th>10th Most Common Venue</th>\n    </tr>\n  </thead>\n  <tbody>\n    <tr>\n      <th>0</th>\n      <td>M3H</td>\n      <td>-79.442259</td>\n      <td>0</td>\n      <td>Coffee Shop</td>\n      <td>Bank</td>\n      <td>Convenience Store</td>\n      <td>Ice Cream Shop</td>\n      <td>Gas Station</td>\n      <td>Deli / Bodega</td>\n      <td>Bridal Shop</td>\n      <td>Diner</td>\n      <td>Middle Eastern Restaurant</td>\n      <td>Fried Chicken Joint</td>\n    </tr>\n  </tbody>\n</table>\n</div>",
                        "text/plain": "  PostalCode  Longitude  Cluster Labels 1st Most Common Venue  \\\n0        M3H -79.442259               0           Coffee Shop   \n\n  2nd Most Common Venue 3rd Most Common Venue 4th Most Common Venue  \\\n0                  Bank     Convenience Store        Ice Cream Shop   \n\n  5th Most Common Venue 6th Most Common Venue 7th Most Common Venue  \\\n0           Gas Station         Deli / Bodega           Bridal Shop   \n\n  8th Most Common Venue      9th Most Common Venue 10th Most Common Venue  \n0                 Diner  Middle Eastern Restaurant    Fried Chicken Joint  "
                    },
                    "execution_count": 46,
                    "metadata": {},
                    "output_type": "execute_result"
                }
            ],
            "source": "toronto_merged.loc[toronto_merged['Cluster Labels'] == 0, toronto_merged.columns[[1] + list(range(5, toronto_merged.shape[1]))]]"
        },
        {
            "cell_type": "code",
            "execution_count": 47,
            "metadata": {},
            "outputs": [
                {
                    "data": {
                        "text/html": "<div>\n<style scoped>\n    .dataframe tbody tr th:only-of-type {\n        vertical-align: middle;\n    }\n\n    .dataframe tbody tr th {\n        vertical-align: top;\n    }\n\n    .dataframe thead th {\n        text-align: right;\n    }\n</style>\n<table border=\"1\" class=\"dataframe\">\n  <thead>\n    <tr style=\"text-align: right;\">\n      <th></th>\n      <th>PostalCode</th>\n      <th>Longitude</th>\n      <th>Cluster Labels</th>\n      <th>1st Most Common Venue</th>\n      <th>2nd Most Common Venue</th>\n      <th>3rd Most Common Venue</th>\n      <th>4th Most Common Venue</th>\n      <th>5th Most Common Venue</th>\n      <th>6th Most Common Venue</th>\n      <th>7th Most Common Venue</th>\n      <th>8th Most Common Venue</th>\n      <th>9th Most Common Venue</th>\n      <th>10th Most Common Venue</th>\n    </tr>\n  </thead>\n  <tbody>\n    <tr>\n      <th>1</th>\n      <td>M4K</td>\n      <td>-79.352188</td>\n      <td>1</td>\n      <td>Greek Restaurant</td>\n      <td>Coffee Shop</td>\n      <td>Italian Restaurant</td>\n      <td>Bookstore</td>\n      <td>Ice Cream Shop</td>\n      <td>Furniture / Home Store</td>\n      <td>Brewery</td>\n      <td>Bubble Tea Shop</td>\n      <td>Caf\u00e9</td>\n      <td>Caribbean Restaurant</td>\n    </tr>\n  </tbody>\n</table>\n</div>",
                        "text/plain": "  PostalCode  Longitude  Cluster Labels 1st Most Common Venue  \\\n1        M4K -79.352188               1      Greek Restaurant   \n\n  2nd Most Common Venue 3rd Most Common Venue 4th Most Common Venue  \\\n1           Coffee Shop    Italian Restaurant             Bookstore   \n\n  5th Most Common Venue   6th Most Common Venue 7th Most Common Venue  \\\n1        Ice Cream Shop  Furniture / Home Store               Brewery   \n\n  8th Most Common Venue 9th Most Common Venue 10th Most Common Venue  \n1       Bubble Tea Shop                  Caf\u00e9   Caribbean Restaurant  "
                    },
                    "execution_count": 47,
                    "metadata": {},
                    "output_type": "execute_result"
                }
            ],
            "source": "toronto_merged.loc[toronto_merged['Cluster Labels'] == 1, toronto_merged.columns[[1] + list(range(5, toronto_merged.shape[1]))]]"
        },
        {
            "cell_type": "code",
            "execution_count": 48,
            "metadata": {},
            "outputs": [
                {
                    "data": {
                        "text/html": "<div>\n<style scoped>\n    .dataframe tbody tr th:only-of-type {\n        vertical-align: middle;\n    }\n\n    .dataframe tbody tr th {\n        vertical-align: top;\n    }\n\n    .dataframe thead th {\n        text-align: right;\n    }\n</style>\n<table border=\"1\" class=\"dataframe\">\n  <thead>\n    <tr style=\"text-align: right;\">\n      <th></th>\n      <th>PostalCode</th>\n      <th>Longitude</th>\n      <th>Cluster Labels</th>\n      <th>1st Most Common Venue</th>\n      <th>2nd Most Common Venue</th>\n      <th>3rd Most Common Venue</th>\n      <th>4th Most Common Venue</th>\n      <th>5th Most Common Venue</th>\n      <th>6th Most Common Venue</th>\n      <th>7th Most Common Venue</th>\n      <th>8th Most Common Venue</th>\n      <th>9th Most Common Venue</th>\n      <th>10th Most Common Venue</th>\n    </tr>\n  </thead>\n  <tbody>\n    <tr>\n      <th>2</th>\n      <td>M8V</td>\n      <td>-79.501321</td>\n      <td>2</td>\n      <td>American Restaurant</td>\n      <td>Pizza Place</td>\n      <td>Fast Food Restaurant</td>\n      <td>Gym</td>\n      <td>Liquor Store</td>\n      <td>Mexican Restaurant</td>\n      <td>Pet Store</td>\n      <td>Pharmacy</td>\n      <td>Caf\u00e9</td>\n      <td>Restaurant</td>\n    </tr>\n  </tbody>\n</table>\n</div>",
                        "text/plain": "  PostalCode  Longitude  Cluster Labels 1st Most Common Venue  \\\n2        M8V -79.501321               2   American Restaurant   \n\n  2nd Most Common Venue 3rd Most Common Venue 4th Most Common Venue  \\\n2           Pizza Place  Fast Food Restaurant                   Gym   \n\n  5th Most Common Venue 6th Most Common Venue 7th Most Common Venue  \\\n2          Liquor Store    Mexican Restaurant             Pet Store   \n\n  8th Most Common Venue 9th Most Common Venue 10th Most Common Venue  \n2              Pharmacy                  Caf\u00e9             Restaurant  "
                    },
                    "execution_count": 48,
                    "metadata": {},
                    "output_type": "execute_result"
                }
            ],
            "source": "toronto_merged.loc[toronto_merged['Cluster Labels'] == 2, toronto_merged.columns[[1] + list(range(5, toronto_merged.shape[1]))]]"
        },
        {
            "cell_type": "code",
            "execution_count": null,
            "metadata": {},
            "outputs": [],
            "source": ""
        }
    ],
    "metadata": {
        "kernelspec": {
            "display_name": "Python 3.6",
            "language": "python",
            "name": "python3"
        },
        "language_info": {
            "codemirror_mode": {
                "name": "ipython",
                "version": 3
            },
            "file_extension": ".py",
            "mimetype": "text/x-python",
            "name": "python",
            "nbconvert_exporter": "python",
            "pygments_lexer": "ipython3",
            "version": "3.6.9"
        }
    },
    "nbformat": 4,
    "nbformat_minor": 1
}